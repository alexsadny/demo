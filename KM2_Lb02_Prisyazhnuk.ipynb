{
 "cells": [
  {
   "cell_type": "markdown",
   "id": "be390b6a-834d-4ae2-8e51-0f49c42a2f9c",
   "metadata": {
    "jp-MarkdownHeadingCollapsed": true
   },
   "source": [
    "# Лабораторная работа 2\n",
    "# Встроенные типы объектов в Python"
   ]
  },
  {
   "cell_type": "markdown",
   "id": "67704189-4a66-4096-bd3b-53a356dc6853",
   "metadata": {},
   "source": [
    "#### Присяжнюк Александра, 02.03 "
   ]
  },
  {
   "cell_type": "markdown",
   "id": "7da880b9-5bee-4659-af64-562be8f278aa",
   "metadata": {
    "jp-MarkdownHeadingCollapsed": true
   },
   "source": [
    "# Задание 1. \n",
    "### Построение иерархии встроенных типов в Python"
   ]
  },
  {
   "cell_type": "markdown",
   "id": "92da0f3c-e246-4678-8f54-a5276ab500e0",
   "metadata": {},
   "source": [
    "Создадим иерархическую модель дерева:"
   ]
  },
  {
   "cell_type": "markdown",
   "id": "8ffe3496-4661-4d0a-9f9a-3557a79c909c",
   "metadata": {},
   "source": [
    "<h3><center> Встроенные типы </center></h3>\n",
    "<div style=\"display: flex; justify-content: space-between; padding: 0 400px;\">\n",
    "    <span><h3>Числа</h3></span>\n",
    "    <span style=\"margin-left: 400px;\"><h3>Коллекции</h3></span>\n",
    "</div>\n",
    "<div style=\"display: flex; justify-content: space-between; padding: 0 20px;\">\n",
    "    <span><h4>Целые числа</h4></span>\n",
    "    <span style=\"margin-left: 40px;\"><h4>Числа с плавающей точкой </h4></span>\n",
    "     <span style=\"margin-left: 40px;\"><h4>Комплексные числа  </h4></span>\n",
    "     <span style=\"margin-left: 150px;\"><h4>Отображения </h4></span>\n",
    "     <span style=\"margin-left: 50px;\"><h4>Множества  </h4></span>\n",
    "    <span style=\"margin-left: 40px;\"><h4>Последовательности </h4></span>\n",
    "</div>\n",
    "<div style=\"display: flex; justify-content: space-between; padding: 0 10px;\">\n",
    "  <span ><h4> Булевый тип  </h4></span>\n",
    "    <span style=\"margin-left: 950px;\"><h4>Списки </h4></span>\n",
    "    <span style=\"margin-left: 40px;\"><h4>Строки</h4></span>\n",
    "    <span style=\"margin-left: 40px;\"><h4>Кортежи </h4></span>\n",
    "</div>"
   ]
  },
  {
   "cell_type": "markdown",
   "id": "6af584e8-02dd-4e80-b590-b7853b31ed5e",
   "metadata": {},
   "source": [
    "# Задание 2.1 \n",
    "## Проработка примеров, представленных в лекционном файле"
   ]
  },
  {
   "cell_type": "markdown",
   "id": "d6cf5166-1086-42ea-89c3-a06817146356",
   "metadata": {},
   "source": [
    "# Задание 2.2 \n",
    "## Решение заданий"
   ]
  },
  {
   "cell_type": "markdown",
   "id": "52b52def-02dc-4114-b022-3d308f471d01",
   "metadata": {
    "jp-MarkdownHeadingCollapsed": true
   },
   "source": [
    "##### *2.2 Встроенные типы объектов, представляющих числа*"
   ]
  },
  {
   "cell_type": "code",
   "execution_count": 43,
   "id": "bccc713f-f9ae-4c7e-bb1f-6d3e54819721",
   "metadata": {},
   "outputs": [
    {
     "name": "stdout",
     "output_type": "stream",
     "text": [
      "0.35 0.35\n",
      "1.2 1.2\n",
      "1.4 1.4\n"
     ]
    }
   ],
   "source": [
    "import decimal as dec\n",
    "print(0.7*0.5, dec.Decimal('0.7')*dec.Decimal('0.5'))\n",
    "print(0.7+0.5, dec.Decimal('0.7')+dec.Decimal('0.5'))\n",
    "print(0.7/0.5, dec.Decimal('0.7')/dec.Decimal('0.5'))"
   ]
  },
  {
   "cell_type": "code",
   "execution_count": 44,
   "id": "b8087159-51ae-461c-8c48-1be7a53515d8",
   "metadata": {},
   "outputs": [
    {
     "name": "stdout",
     "output_type": "stream",
     "text": [
      "1.125 9/8\n",
      "0.28125 9/32\n"
     ]
    }
   ],
   "source": [
    "import fractions\n",
    "print(0.75+0.375,fractions.Fraction(3,4)+fractions.Fraction(3,8))\n",
    "print(0.75*0.375,fractions.Fraction(3,4)*fractions.Fraction(3,8))"
   ]
  },
  {
   "cell_type": "markdown",
   "id": "5c58fbb6-a28b-44fb-b8ab-a09edc491e3c",
   "metadata": {
    "jp-MarkdownHeadingCollapsed": true
   },
   "source": [
    "##### *2.3 Встроенные типы последовательностей: str, list, tuple*"
   ]
  },
  {
   "cell_type": "code",
   "execution_count": 46,
   "id": "4edca8ea-c4bf-449b-aca4-7ef832fcc6fe",
   "metadata": {},
   "outputs": [
    {
     "name": "stdout",
     "output_type": "stream",
     "text": [
      "slam\n"
     ]
    }
   ],
   "source": [
    "s='spam'\n",
    "s=s[:1]+'l'+s[2:]\n",
    "print(s)"
   ]
  },
  {
   "cell_type": "markdown",
   "id": "2c4ad23d-ebbb-4025-90ed-2deae68da957",
   "metadata": {},
   "source": [
    "Похожее рассуждение можно выполнить используя индексацию и конкатенацию"
   ]
  },
  {
   "cell_type": "code",
   "execution_count": 48,
   "id": "23d8cc4d-eff9-4bf6-92d8-eae9c418ed00",
   "metadata": {},
   "outputs": [
    {
     "name": "stdout",
     "output_type": "stream",
     "text": [
      "slam\n"
     ]
    }
   ],
   "source": [
    "s='spam'\n",
    "s=s[0]+'l'+s[2:]\n",
    "print(s)"
   ]
  },
  {
   "cell_type": "markdown",
   "id": "9e3772a0-fdf0-487f-96fa-c20d5090fe0e",
   "metadata": {},
   "source": [
    "Операция присваивание по индексу не работает, так как строка является неизменяемым объектом"
   ]
  },
  {
   "cell_type": "code",
   "execution_count": 50,
   "id": "a6470340-7a10-4143-ab6c-90002f869784",
   "metadata": {},
   "outputs": [
    {
     "ename": "TypeError",
     "evalue": "'str' object does not support item assignment",
     "output_type": "error",
     "traceback": [
      "\u001b[1;31m---------------------------------------------------------------------------\u001b[0m",
      "\u001b[1;31mTypeError\u001b[0m                                 Traceback (most recent call last)",
      "Cell \u001b[1;32mIn[50], line 2\u001b[0m\n\u001b[0;32m      1\u001b[0m s\u001b[38;5;241m=\u001b[39m\u001b[38;5;124m'\u001b[39m\u001b[38;5;124mspam\u001b[39m\u001b[38;5;124m'\u001b[39m\n\u001b[1;32m----> 2\u001b[0m s[\u001b[38;5;241m1\u001b[39m]\u001b[38;5;241m=\u001b[39m\u001b[38;5;124m'\u001b[39m\u001b[38;5;124ml\u001b[39m\u001b[38;5;124m'\u001b[39m\n\u001b[0;32m      3\u001b[0m \u001b[38;5;28mprint\u001b[39m(s)\n",
      "\u001b[1;31mTypeError\u001b[0m: 'str' object does not support item assignment"
     ]
    }
   ],
   "source": [
    "s='spam'\n",
    "s[1]='l'\n",
    "print(s)"
   ]
  },
  {
   "cell_type": "markdown",
   "id": "753f283a-cf30-4a95-b216-42111bd169fe",
   "metadata": {},
   "source": [
    "Проведем рассуждения для `list` </br>\n",
    "Так как `list` является изменяемый объектом, то элемент `p` мы можем изменить с помощью индексации"
   ]
  },
  {
   "cell_type": "code",
   "execution_count": 122,
   "id": "edf3578e-76b6-4c9b-a413-b162a0b19cc6",
   "metadata": {},
   "outputs": [
    {
     "name": "stdout",
     "output_type": "stream",
     "text": [
      "['s', 'l', 'a', 'm']\n"
     ]
    },
    {
     "data": {
      "text/plain": [
       "'slam'"
      ]
     },
     "execution_count": 122,
     "metadata": {},
     "output_type": "execute_result"
    }
   ],
   "source": [
    "l=list('spam')\n",
    "l[1]='l'\n",
    "print(l)\n",
    "l = \"\".join(l)\n",
    "l"
   ]
  },
  {
   "cell_type": "markdown",
   "id": "bf14e7bc-cba2-403c-9efe-4c33fdcb4b97",
   "metadata": {},
   "source": [
    "Можно также рассуждать с помощью нарезки и конкатенации"
   ]
  },
  {
   "cell_type": "code",
   "execution_count": 58,
   "id": "d950300e-0ec1-4f41-b901-156ba8ee8db9",
   "metadata": {},
   "outputs": [
    {
     "name": "stdout",
     "output_type": "stream",
     "text": [
      "['s', 'l', 'a', 'm']\n"
     ]
    }
   ],
   "source": [
    "l=list('spam')\n",
    "l = l[:1] + ['l'] + l[2:]  \n",
    "print(l) "
   ]
  },
  {
   "cell_type": "code",
   "execution_count": 59,
   "id": "975f5cd5-0b28-4d1c-bef8-1f245626b97f",
   "metadata": {},
   "outputs": [
    {
     "ename": "TypeError",
     "evalue": "can only concatenate str (not \"list\") to str",
     "output_type": "error",
     "traceback": [
      "\u001b[1;31m---------------------------------------------------------------------------\u001b[0m",
      "\u001b[1;31mTypeError\u001b[0m                                 Traceback (most recent call last)",
      "Cell \u001b[1;32mIn[59], line 2\u001b[0m\n\u001b[0;32m      1\u001b[0m l\u001b[38;5;241m=\u001b[39m\u001b[38;5;28mlist\u001b[39m(\u001b[38;5;124m'\u001b[39m\u001b[38;5;124mspam\u001b[39m\u001b[38;5;124m'\u001b[39m)\n\u001b[1;32m----> 2\u001b[0m l \u001b[38;5;241m=\u001b[39m l[\u001b[38;5;241m0\u001b[39m] \u001b[38;5;241m+\u001b[39m [\u001b[38;5;124m'\u001b[39m\u001b[38;5;124ml\u001b[39m\u001b[38;5;124m'\u001b[39m] \u001b[38;5;241m+\u001b[39m l[\u001b[38;5;241m2\u001b[39m:]  \n\u001b[0;32m      3\u001b[0m \u001b[38;5;28mprint\u001b[39m(l)\n",
      "\u001b[1;31mTypeError\u001b[0m: can only concatenate str (not \"list\") to str"
     ]
    }
   ],
   "source": [
    "l=list('spam')\n",
    "l = l[0] + ['l'] + l[2:]  \n",
    "print(l) "
   ]
  },
  {
   "cell_type": "markdown",
   "id": "dd2f7c8d-ac11-4840-8d13-2a7fed00b29a",
   "metadata": {},
   "source": [
    "Однако когда мы вызываем `l[0]` возвращаемый объект типа `str`, но мы не можем складывать строки и списки, поэтому запись ошибочна"
   ]
  },
  {
   "cell_type": "markdown",
   "id": "c9958b8e-c435-4c4f-89cd-7e0d486b0582",
   "metadata": {},
   "source": [
    "Проделаем те же манипуляции и с кортежом"
   ]
  },
  {
   "cell_type": "code",
   "execution_count": null,
   "id": "0945c230-5846-4b32-8d6c-6366734b9a68",
   "metadata": {},
   "outputs": [],
   "source": [
    "t=tuple('spam')\n",
    "t[1]='l'\n",
    "print(t)"
   ]
  },
  {
   "cell_type": "markdown",
   "id": "d81645a2-329b-4611-9318-d570fabc2bf7",
   "metadata": {},
   "source": [
    "Так как `tuple` является изменяемый объектом, то элемент `p` мы можем изменить с помощью индексации"
   ]
  },
  {
   "cell_type": "code",
   "execution_count": null,
   "id": "bf210c26-e8e7-4907-abc8-21bcddee7eb7",
   "metadata": {},
   "outputs": [],
   "source": [
    "t=tuple('spam')\n",
    "t=t[0]+(l,)+t[2:]\n",
    "print(t)"
   ]
  },
  {
   "cell_type": "markdown",
   "id": "bce56d9a-ff56-43da-968a-262da86c77e3",
   "metadata": {},
   "source": [
    "Когда мы вызываем `l[0]` возвращаемый объект типа `str`, но мы не можем складывать котрежи и списки, поэтому запись ошибочна"
   ]
  },
  {
   "cell_type": "code",
   "execution_count": null,
   "id": "06fa2d3a-26fc-4bdd-a0af-91eeeea76aa0",
   "metadata": {},
   "outputs": [],
   "source": [
    "t=tuple('spam')\n",
    "t=t[:1]+('l',)+t[2:]\n",
    "print(t)"
   ]
  },
  {
   "cell_type": "markdown",
   "id": "f1ad51ba-0bd1-4a7d-a1bb-9aa54b988f6d",
   "metadata": {},
   "source": [
    "Способ нарезки и кокатенации работает"
   ]
  },
  {
   "cell_type": "markdown",
   "id": "0e674f11-fa03-4baf-b16d-0afe21982e10",
   "metadata": {
    "jp-MarkdownHeadingCollapsed": true
   },
   "source": [
    "##### *2.4 Встроенный тип отображения: dict*"
   ]
  },
  {
   "cell_type": "code",
   "execution_count": null,
   "id": "67969f92-cae5-4cc9-b157-69d4a2c852ba",
   "metadata": {},
   "outputs": [],
   "source": [
    "me={'name':'Sasha','otchestvo':'Ruslanovna', 'surname':'Prisyazhnuk', 'adress':'Minck',\n",
    "'age':17,'work':'tutor','email':'mail.ru','phone':5911694}\n",
    "me['work']"
   ]
  },
  {
   "cell_type": "markdown",
   "id": "c8b2095a-d474-4316-a1f6-77331186f723",
   "metadata": {},
   "source": [
    "`dict` словарь является более осмысленной структурой, так как обращение к данным происходит по ключу. И нам не важно на какой позиции находится та или иная информаия, единственное что нам важно это результат после вызова необходимых данны. В данном случае `list` и `tuple` будут неэффективны, так как для вызова нужно знать индекс, что неэффективно для поиска, и усложняет получение информации"
   ]
  },
  {
   "cell_type": "markdown",
   "id": "80c01d47-db13-4faf-9a5a-d7047a30d3d2",
   "metadata": {
    "jp-MarkdownHeadingCollapsed": true
   },
   "source": [
    "##### *2.5 Встроенный тип множества: set*"
   ]
  },
  {
   "cell_type": "markdown",
   "id": "77dabef5-fdbf-4000-a663-5ceb7e481242",
   "metadata": {},
   "source": [
    "Приведем пример удаления повторяющихся объектов с помощью множеств"
   ]
  },
  {
   "cell_type": "code",
   "execution_count": null,
   "id": "95b1b7f0-2d7b-403f-a0f7-02171e1ce16d",
   "metadata": {},
   "outputs": [],
   "source": [
    "sentance='ttaaabblllle'\n",
    "print(sentance)\n",
    "sentance1=str(set(sentance))\n",
    "print(sentance1)\n",
    "print(''.join(set(sentance)))"
   ]
  },
  {
   "cell_type": "markdown",
   "id": "f4a46792-ba22-4132-a8d5-46768a06e615",
   "metadata": {
    "jp-MarkdownHeadingCollapsed": true
   },
   "source": [
    "##### *2.8. Интерфейс объекта: операции и методы*"
   ]
  },
  {
   "cell_type": "code",
   "execution_count": null,
   "id": "3c2dfb7e-7697-4559-a4cd-804ef88578a6",
   "metadata": {},
   "outputs": [],
   "source": [
    "s='tamara'\n",
    "l=[i for i in range(6)]+[1]*3\n",
    "k=tuple([i for i in range(6)])\n",
    "s.count('a'),l.count(1),k.count(1)"
   ]
  },
  {
   "cell_type": "code",
   "execution_count": null,
   "id": "3d2fbbde-42ee-43be-8dc5-5c8b40d98ab4",
   "metadata": {},
   "outputs": [],
   "source": [
    "s.index('a'),l.index(1),k.index(5)"
   ]
  },
  {
   "cell_type": "code",
   "execution_count": null,
   "id": "957f1db9-525e-40d1-a926-f821053cf547",
   "metadata": {},
   "outputs": [],
   "source": [
    "s='tamara34'\n",
    "s=s.upper()\n",
    "s"
   ]
  },
  {
   "cell_type": "markdown",
   "id": "4656dd7e-6345-46cb-beb7-8d84df15af32",
   "metadata": {},
   "source": [
    "Строковый метод upper преобразовывает буквенные символы строки в строчные буквы; небуквенные символы остаются без изменений"
   ]
  },
  {
   "cell_type": "code",
   "execution_count": null,
   "id": "21ee13bd-8d4d-4849-b89c-1f13e6a27ff8",
   "metadata": {},
   "outputs": [],
   "source": [
    "s='*'.join(s)\n",
    "s"
   ]
  },
  {
   "cell_type": "markdown",
   "id": "464de921-5e8b-4a72-a39b-df58d4a40a86",
   "metadata": {},
   "source": [
    "Метод sep.join(obj) используется для объединения элементов итерируемого объекта (obj) в одну строку, вставляя между элементами строку-разделитель sep."
   ]
  },
  {
   "cell_type": "code",
   "execution_count": null,
   "id": "b85bb710-5e1e-43bb-a9ca-76a7cfdfa903",
   "metadata": {},
   "outputs": [],
   "source": [
    "s=s.replace('*','/')\n",
    "s"
   ]
  },
  {
   "cell_type": "markdown",
   "id": "0c85ad2e-1b28-4665-933c-7e9cf0003eb1",
   "metadata": {},
   "source": [
    "Строковый метод replace(sub1, sub2) заменяет одну подстроку sub1 на другую подстроку sub2"
   ]
  },
  {
   "cell_type": "code",
   "execution_count": null,
   "id": "1eda801e-f8e6-42e9-9f0e-5f3e903caff6",
   "metadata": {},
   "outputs": [],
   "source": [
    "lis=s.split('/')\n",
    "lis.append('tuesday');lis.insert(3,'tuesday');lis.extend((1,2,3))\n",
    "lis"
   ]
  },
  {
   "cell_type": "markdown",
   "id": "0f43b099-5b0e-4af4-9f83-074995f91911",
   "metadata": {},
   "source": [
    "В примере представлены три возможные случая добавления элементов в список:\n",
    "- append(el) добавляет объект el в конец списка\n",
    "- extend(els) добавляет несколько объектов из коллекции els в конец\n",
    "списка\n",
    "- insert(pos, el) добавляет элемент el в позицию pos"
   ]
  },
  {
   "cell_type": "markdown",
   "id": "299b3ffe-8350-4300-929e-d2458c189b6a",
   "metadata": {},
   "source": [
    "Ключ (key) — это функция, которая применяется к каждому элементу списка перед сортировкой. Вместо сравнения самих элементов сравниваются их преобразованные значения."
   ]
  },
  {
   "cell_type": "code",
   "execution_count": null,
   "id": "aa5f646e-0b89-46b8-b330-3a99bea5c618",
   "metadata": {},
   "outputs": [],
   "source": [
    "s = [\"apple\", \"banana\", \"kiwi\", \"cherry\"]\n",
    "s.sort(key=len)\n",
    "s"
   ]
  },
  {
   "cell_type": "markdown",
   "id": "648a0458-09be-4018-85b3-319142bb43a5",
   "metadata": {},
   "source": [
    "Метод `sort` изменяет изначальный список и не возвращает новое значение."
   ]
  },
  {
   "cell_type": "markdown",
   "id": "97b9a91b-5417-4eac-9230-e1af851a643a",
   "metadata": {},
   "source": [
    "Словарь можно создать с помощью метода словаря fromkeys , передавая последовательность ключей и одно значение, которое будет ассоциировано со всеми ключами из последовательности"
   ]
  },
  {
   "cell_type": "code",
   "execution_count": 83,
   "id": "794ba555-1254-4596-bbc3-fee84e599293",
   "metadata": {},
   "outputs": [
    {
     "data": {
      "text/plain": [
       "{1: 'ho-ho',\n",
       " 2: 'ho-ho',\n",
       " 3: 'ho-ho',\n",
       " 4: 'ho-ho',\n",
       " 5: 'ho-ho',\n",
       " 6: 'ho-ho',\n",
       " 7: 'ho-ho',\n",
       " 8: 'ho-ho',\n",
       " 9: 'ho-ho',\n",
       " 10: 'ho-ho',\n",
       " 11: 'ho-ho',\n",
       " 12: 'ho-ho',\n",
       " 13: 'ho-ho',\n",
       " 14: 'ho-ho',\n",
       " 15: 'ho-ho',\n",
       " 16: 'ho-ho',\n",
       " 17: 'ho-ho',\n",
       " 18: 'ho-ho',\n",
       " 19: 'ho-ho',\n",
       " 20: 'ho-ho',\n",
       " 21: 'ho-ho',\n",
       " 22: 'ho-ho',\n",
       " 23: 'ho-ho',\n",
       " 24: 'ho-ho',\n",
       " 25: 'ho-ho',\n",
       " 26: 'ho-ho',\n",
       " 27: 'ho-ho',\n",
       " 28: 'ho-ho',\n",
       " 29: 'ho-ho',\n",
       " 30: 'ho-ho',\n",
       " 31: 'ho-ho',\n",
       " 32: 'ho-ho',\n",
       " 33: 'ho-ho',\n",
       " 34: 'ho-ho',\n",
       " 35: 'ho-ho',\n",
       " 36: 'ho-ho',\n",
       " 37: 'ho-ho',\n",
       " 38: 'ho-ho',\n",
       " 39: 'ho-ho',\n",
       " 40: 'ho-ho',\n",
       " 41: 'ho-ho',\n",
       " 42: 'ho-ho',\n",
       " 43: 'ho-ho',\n",
       " 44: 'ho-ho',\n",
       " 45: 'ho-ho',\n",
       " 46: 'ho-ho',\n",
       " 47: 'ho-ho',\n",
       " 48: 'ho-ho',\n",
       " 49: 'ho-ho',\n",
       " 50: 'ho-ho',\n",
       " 51: 'ho-ho',\n",
       " 52: 'ho-ho',\n",
       " 53: 'ho-ho',\n",
       " 54: 'ho-ho',\n",
       " 55: 'ho-ho',\n",
       " 56: 'ho-ho',\n",
       " 57: 'ho-ho',\n",
       " 58: 'ho-ho',\n",
       " 59: 'ho-ho',\n",
       " 60: 'ho-ho',\n",
       " 61: 'ho-ho',\n",
       " 62: 'ho-ho',\n",
       " 63: 'ho-ho',\n",
       " 64: 'ho-ho',\n",
       " 65: 'ho-ho',\n",
       " 66: 'ho-ho',\n",
       " 67: 'ho-ho',\n",
       " 68: 'ho-ho',\n",
       " 69: 'ho-ho',\n",
       " 70: 'ho-ho',\n",
       " 71: 'ho-ho',\n",
       " 72: 'ho-ho',\n",
       " 73: 'ho-ho',\n",
       " 74: 'ho-ho',\n",
       " 75: 'ho-ho',\n",
       " 76: 'ho-ho',\n",
       " 77: 'ho-ho',\n",
       " 78: 'ho-ho',\n",
       " 79: 'ho-ho',\n",
       " 80: 'ho-ho',\n",
       " 81: 'ho-ho',\n",
       " 82: 'ho-ho',\n",
       " 83: 'ho-ho',\n",
       " 84: 'ho-ho',\n",
       " 85: 'ho-ho',\n",
       " 86: 'ho-ho',\n",
       " 87: 'ho-ho',\n",
       " 88: 'ho-ho',\n",
       " 89: 'ho-ho',\n",
       " 90: 'ho-ho',\n",
       " 91: 'ho-ho',\n",
       " 92: 'ho-ho',\n",
       " 93: 'ho-ho',\n",
       " 94: 'ho-ho',\n",
       " 95: 'ho-ho',\n",
       " 96: 'ho-ho',\n",
       " 97: 'ho-ho',\n",
       " 98: 'ho-ho',\n",
       " 99: 'ho-ho',\n",
       " 100: 'ho-ho'}"
      ]
     },
     "execution_count": 83,
     "metadata": {},
     "output_type": "execute_result"
    }
   ],
   "source": [
    "dict1 = dict.fromkeys(range(1, 101), 'ho-ho')\n",
    "dict1"
   ]
  },
  {
   "cell_type": "markdown",
   "id": "fd96d873-9de1-4168-93fb-df8a7bf679cd",
   "metadata": {
    "jp-MarkdownHeadingCollapsed": true
   },
   "source": [
    "##### *2.9 Переменная*"
   ]
  },
  {
   "cell_type": "markdown",
   "id": "27cdc14f-516d-465c-a68c-fc58e3c487b5",
   "metadata": {},
   "source": [
    "Если объект содержит ссылку на самого себя, то он становится циклическим объектом"
   ]
  },
  {
   "cell_type": "code",
   "execution_count": 84,
   "id": "0f1bf164-c8dd-4785-b8b8-5c8a0055ec19",
   "metadata": {},
   "outputs": [
    {
     "data": {
      "text/plain": [
       "[0, 1, 2, 3, [...]]"
      ]
     },
     "execution_count": 84,
     "metadata": {},
     "output_type": "execute_result"
    }
   ],
   "source": [
    "a=[i for i in range(4)]\n",
    "a.append(a)\n",
    "a"
   ]
  },
  {
   "cell_type": "code",
   "execution_count": 90,
   "id": "abbbed42-89e0-4852-b576-c8f3ab4579f3",
   "metadata": {},
   "outputs": [
    {
     "data": {
      "text/plain": [
       "{'a', 'm', 'r', 't'}"
      ]
     },
     "execution_count": 90,
     "metadata": {},
     "output_type": "execute_result"
    }
   ],
   "source": [
    "a=set('tamara')\n",
    "a.update(a)\n",
    "a"
   ]
  },
  {
   "cell_type": "markdown",
   "id": "a804a94e-a713-42c5-8dc0-4c05e135d619",
   "metadata": {},
   "source": [
    "set не может содержать дубликаты, поэтому повторное добавление тех же элементов ничего не меняет"
   ]
  },
  {
   "cell_type": "code",
   "execution_count": 103,
   "id": "2052cc09-f64a-4a51-b2c8-f30a243a0fcb",
   "metadata": {},
   "outputs": [
    {
     "data": {
      "text/plain": [
       "{'one': 1, 'two': 2, 'three': {...}}"
      ]
     },
     "execution_count": 103,
     "metadata": {},
     "output_type": "execute_result"
    }
   ],
   "source": [
    "a={'one':1,'two':2}\n",
    "a['three']=a;a"
   ]
  },
  {
   "cell_type": "code",
   "execution_count": 113,
   "id": "fd4c82ef-142b-4004-869e-db14e19d84a8",
   "metadata": {},
   "outputs": [
    {
     "data": {
      "text/plain": [
       "([0, 1, 2, 3, (...)],)"
      ]
     },
     "execution_count": 113,
     "metadata": {},
     "output_type": "execute_result"
    }
   ],
   "source": [
    "a=[i for i in range(4)],\n",
    "a[0].append(a)\n",
    "a"
   ]
  },
  {
   "cell_type": "code",
   "execution_count": 115,
   "id": "0dc79104-0cb9-4202-9fb6-0867ec361e84",
   "metadata": {},
   "outputs": [],
   "source": [
    "a=b=c=d='ho-ho'"
   ]
  },
  {
   "cell_type": "code",
   "execution_count": 117,
   "id": "10e567df-6b6b-42f7-8abc-5dee23d50a7a",
   "metadata": {},
   "outputs": [
    {
     "data": {
      "text/plain": [
       "5"
      ]
     },
     "execution_count": 117,
     "metadata": {},
     "output_type": "execute_result"
    }
   ],
   "source": [
    "sys.getrefcount(a)"
   ]
  },
  {
   "cell_type": "markdown",
   "id": "dad7dd02-df2a-472f-baaa-de70ba946996",
   "metadata": {},
   "source": [
    "Но sys.getrefcount(a) возвращает на 1 больше, потому что Python создаёт временную ссылку при передаче объекта в функцию"
   ]
  },
  {
   "cell_type": "markdown",
   "id": "1dccebe8-d376-4b58-a899-5957211f17ff",
   "metadata": {},
   "source": [
    "Копирование последовательностей возможно посредством операции среза по всем элементам [:]"
   ]
  },
  {
   "cell_type": "code",
   "execution_count": 132,
   "id": "94e5245f-46bf-4e12-99f9-f9b757146ab3",
   "metadata": {},
   "outputs": [
    {
     "data": {
      "text/plain": [
       "([1, 2, 3], [1, 2, 3])"
      ]
     },
     "execution_count": 132,
     "metadata": {},
     "output_type": "execute_result"
    }
   ],
   "source": [
    "tab=[1,2,3]\n",
    "new1=tab[:]\n",
    "new1,tab"
   ]
  },
  {
   "cell_type": "markdown",
   "id": "ce0d9ecf-2a65-46a7-91bb-fdf8b9a114f9",
   "metadata": {},
   "source": [
    "Копирование изменяемых объектов возможно с помощью метода copy"
   ]
  },
  {
   "cell_type": "code",
   "execution_count": 134,
   "id": "3da830cc-832b-439c-bbda-a20e9b91e4d1",
   "metadata": {},
   "outputs": [
    {
     "data": {
      "text/plain": [
       "([1, 2, 3], [1, 2, 3])"
      ]
     },
     "execution_count": 134,
     "metadata": {},
     "output_type": "execute_result"
    }
   ],
   "source": [
    "new2=tab.copy()\n",
    "new2,tab"
   ]
  },
  {
   "cell_type": "markdown",
   "id": "19ed956f-41e6-42a9-84cd-779b2d1de02e",
   "metadata": {},
   "source": [
    "Копирование объектов возможно с помощью вызова соответствующих функций-конструкторов"
   ]
  },
  {
   "cell_type": "code",
   "execution_count": 138,
   "id": "1e7ba431-5384-44ac-bffa-1ac6bd519460",
   "metadata": {},
   "outputs": [
    {
     "data": {
      "text/plain": [
       "([1, 2, 3], [1, 2, 3])"
      ]
     },
     "execution_count": 138,
     "metadata": {},
     "output_type": "execute_result"
    }
   ],
   "source": [
    "new3=tab.__class__(tab)\n",
    "new3,tab"
   ]
  },
  {
   "cell_type": "markdown",
   "id": "b3c6e16c-203d-4eeb-888a-4242b2c6f7fe",
   "metadata": {
    "jp-MarkdownHeadingCollapsed": true
   },
   "source": [
    "##### *2.10 Выражение спискового включения*"
   ]
  },
  {
   "cell_type": "code",
   "execution_count": 142,
   "id": "555a7717-8a08-489f-ae61-1019fae6a762",
   "metadata": {},
   "outputs": [
    {
     "data": {
      "text/plain": [
       "{'g', 'i', 'n', 'r', 't'}"
      ]
     },
     "execution_count": 142,
     "metadata": {},
     "output_type": "execute_result"
    }
   ],
   "source": [
    "{x for x in 'strings' if x!='s'}"
   ]
  },
  {
   "cell_type": "code",
   "execution_count": 146,
   "id": "9c1fd75a-6147-4959-b855-435f50a86dde",
   "metadata": {
    "scrolled": true
   },
   "outputs": [
    {
     "data": {
      "text/plain": [
       "[['a00', 'a01', 'a02', 'a03', 'a04', 'a05', 'a06', 'a07', 'a08'],\n",
       " ['a10', 'a11', 'a12', 'a13', 'a14', 'a15', 'a16', 'a17', 'a18'],\n",
       " ['a20', 'a21', 'a22', 'a23', 'a24', 'a25', 'a26', 'a27', 'a28'],\n",
       " ['a30', 'a31', 'a32', 'a33', 'a34', 'a35', 'a36', 'a37', 'a38'],\n",
       " ['a40', 'a41', 'a42', 'a43', 'a44', 'a45', 'a46', 'a47', 'a48'],\n",
       " ['a50', 'a51', 'a52', 'a53', 'a54', 'a55', 'a56', 'a57', 'a58'],\n",
       " ['a60', 'a61', 'a62', 'a63', 'a64', 'a65', 'a66', 'a67', 'a68'],\n",
       " ['a70', 'a71', 'a72', 'a73', 'a74', 'a75', 'a76', 'a77', 'a78']]"
      ]
     },
     "execution_count": 146,
     "metadata": {},
     "output_type": "execute_result"
    }
   ],
   "source": [
    "[[f'a{i}{j}' for j in range(9)] for i in range(8)]"
   ]
  },
  {
   "cell_type": "markdown",
   "id": "9e98c333-bdc5-44d5-8935-e9c5231a9ed5",
   "metadata": {},
   "source": [
    "Массив созданный на основе списка"
   ]
  },
  {
   "cell_type": "code",
   "execution_count": 5,
   "id": "32854d13-7fda-4ee4-91e8-268b2d641eec",
   "metadata": {},
   "outputs": [
    {
     "data": {
      "text/plain": [
       "[['a00', 'a01', 'a02', 'a03', 'a04', 'a05', 'a06', 'a07', 'a08'],\n",
       " ['a10', 'a11', 'a12', 'a13', 'a14', 'a15', 'a16', 'a17', 'a18'],\n",
       " ['a20', 'a21', 'a22', 'a23', 'a24', 'a25', 'a26', 'a27', 'a28'],\n",
       " ['a30', 'a31', 'a32', 'a33', 'a34', 'a35', 'a36', 'a37', 'a38'],\n",
       " ['a40', 'a41', 'a42', 'a43', 'a44', 'a45', 'a46', 'a47', 'a48'],\n",
       " ['a50', 'a51', 'a52', 'a53', 'a54', 'a55', 'a56', 'a57', 'a58'],\n",
       " ['a60', 'a61', 'a62', 'a63', 'a64', 'a65', 'a66', 'a67', 'a68'],\n",
       " ['a70', 'a71', 'a72', 'a73', 'a74', 'a75', 'a76', 'a77', 'a78']]"
      ]
     },
     "execution_count": 5,
     "metadata": {},
     "output_type": "execute_result"
    }
   ],
   "source": [
    "import numpy as np\n",
    "[[f'a{i}{j}' for j in np.arange(9)] for i in np.arange(8)]"
   ]
  },
  {
   "cell_type": "markdown",
   "id": "0a672fec-aaf3-4547-8862-591b16a43d0b",
   "metadata": {},
   "source": [
    "Массив созданный на основе numpy массива ndarray"
   ]
  },
  {
   "cell_type": "code",
   "execution_count": 168,
   "id": "681d51f7-4505-4377-a1c7-0a9e596d61ef",
   "metadata": {},
   "outputs": [
    {
     "data": {
      "text/plain": [
       "{'one': ['1', '2', '3'], 'two': ['1', '2', '3'], 'three': ['1', '2', '3']}"
      ]
     },
     "execution_count": 168,
     "metadata": {},
     "output_type": "execute_result"
    }
   ],
   "source": [
    "{i: [x for x in '123'] for i in ['one', 'two', 'three']}\n"
   ]
  },
  {
   "cell_type": "code",
   "execution_count": 172,
   "id": "57c748df-c8b1-4c5e-82e2-ad1238f54699",
   "metadata": {},
   "outputs": [
    {
     "data": {
      "text/plain": [
       "{1: {1: 1, 2: 2, 3: 3}, 2: {1: 2, 2: 4, 3: 6}, 3: {1: 3, 2: 6, 3: 9}}"
      ]
     },
     "execution_count": 172,
     "metadata": {},
     "output_type": "execute_result"
    }
   ],
   "source": [
    "{i: {j: i * j for j in range(1, 4)} for i in range(1, 4)}"
   ]
  },
  {
   "cell_type": "markdown",
   "id": "f6edbcb7-5421-4867-b0f3-dc8fa3e54f14",
   "metadata": {},
   "source": [
    "##### *2.11 Форматированный вывод строк*"
   ]
  },
  {
   "cell_type": "code",
   "execution_count": 67,
   "id": "c5418148-ac11-428d-957e-670326836c1d",
   "metadata": {},
   "outputs": [
    {
     "data": {
      "text/plain": [
       "'Если мы возьмем voda=30.00 , и найдем procent=10.0% от неё, то получится voda*procent=  3.0 кг воды'"
      ]
     },
     "execution_count": 67,
     "metadata": {},
     "output_type": "execute_result"
    }
   ],
   "source": [
    "voda=30\n",
    "procent=0.1\n",
    "f'Если мы возьмем {voda=:.2f} , и найдем {procent=:.1%} от неё, то получится {voda*procent=:5} кг воды'"
   ]
  },
  {
   "cell_type": "markdown",
   "id": "ddf45c30-82c0-483e-943b-1341c0197445",
   "metadata": {},
   "source": [
    "Аналог с `format`"
   ]
  },
  {
   "cell_type": "code",
   "execution_count": 79,
   "id": "d96cdcbd-be92-4087-b978-00e6bcf9dec3",
   "metadata": {},
   "outputs": [
    {
     "data": {
      "text/plain": [
       "'Если мы возьмем voda=30.00, и найдем procent=10.0% от неё, то получится voda*procent=   3.0 кг воды'"
      ]
     },
     "execution_count": 79,
     "metadata": {},
     "output_type": "execute_result"
    }
   ],
   "source": [
    "\"Если мы возьмем voda={:.2f}, и найдем procent={:.1%} от неё, то получится voda*procent= {:5} кг воды\".format(voda,procent,voda*procent)"
   ]
  },
  {
   "cell_type": "markdown",
   "id": "9ed7cd52-d648-4a30-901f-c8000effd7da",
   "metadata": {},
   "source": [
    "Аналог с бинарной операцией `%`"
   ]
  },
  {
   "cell_type": "code",
   "execution_count": 81,
   "id": "caad8800-abd5-4821-9ee0-faac7520ad07",
   "metadata": {},
   "outputs": [
    {
     "data": {
      "text/plain": [
       "'Если мы возьмем voda=30.00 воды, и найдем procent=10.0% от неё, то получится voda*procent=  3.0 кг воды'"
      ]
     },
     "execution_count": 81,
     "metadata": {},
     "output_type": "execute_result"
    }
   ],
   "source": [
    "\"Если мы возьмем voda=%.2f воды, и найдем procent=%.1f%% от неё, то получится voda*procent=%5.1f кг воды\"% (voda,procent*100,voda*procent)"
   ]
  },
  {
   "cell_type": "markdown",
   "id": "2cf4fad8-44cf-4870-b79c-f5ac82e45161",
   "metadata": {},
   "source": [
    "Проделаем те же форматирования с заданным выражением `$x^2-5x+7$`"
   ]
  },
  {
   "cell_type": "code",
   "execution_count": 89,
   "id": "49dad842-175a-4292-b922-6406d0f76cc4",
   "metadata": {},
   "outputs": [
    {
     "data": {
      "text/plain": [
       "'x**2-5*x+7=7.570e+02'"
      ]
     },
     "execution_count": 89,
     "metadata": {},
     "output_type": "execute_result"
    }
   ],
   "source": [
    "x=30\n",
    "f'{x**2-5*x+7=:.3e}'"
   ]
  },
  {
   "cell_type": "markdown",
   "id": "6bb58a0b-a774-482c-a34e-68a19ba54ddc",
   "metadata": {},
   "source": [
    "Аналог с `format`"
   ]
  },
  {
   "cell_type": "code",
   "execution_count": 93,
   "id": "1a658a46-60d7-43fc-a9ec-49de2ff8c065",
   "metadata": {},
   "outputs": [
    {
     "data": {
      "text/plain": [
       "'x^2+5x-7=7.570e+02'"
      ]
     },
     "execution_count": 93,
     "metadata": {},
     "output_type": "execute_result"
    }
   ],
   "source": [
    "\"x^2+5x-7={:.3e}\".format(x**2-5*x+7)"
   ]
  },
  {
   "cell_type": "markdown",
   "id": "f5375910-912d-4ed7-a6a4-be9fe2053c94",
   "metadata": {},
   "source": [
    "Аналог с бинарной операцией `%`"
   ]
  },
  {
   "cell_type": "code",
   "execution_count": 97,
   "id": "5795548d-63bd-46fd-9626-009bd0fdb69b",
   "metadata": {},
   "outputs": [
    {
     "data": {
      "text/plain": [
       "'x^2+5x-7=7.570e+02'"
      ]
     },
     "execution_count": 97,
     "metadata": {},
     "output_type": "execute_result"
    }
   ],
   "source": [
    "\"x^2+5x-7=%.3e\"%(x**2-5*x+7)"
   ]
  },
  {
   "cell_type": "markdown",
   "id": "e8f3ee68-4fc5-4d5b-bb81-0668ba71ed3e",
   "metadata": {},
   "source": [
    "##### *2.12 Файловый объект*"
   ]
  },
  {
   "cell_type": "code",
   "execution_count": 20,
   "id": "9b03328f-6776-4d9a-ac32-fd4edbd8b812",
   "metadata": {},
   "outputs": [
    {
     "name": "stdout",
     "output_type": "stream",
     "text": [
      "October square\n",
      "knows as \n",
      "central square\n"
     ]
    }
   ],
   "source": [
    "file = open('esse.txt')\n",
    "print(file.read())\n",
    "file.close() "
   ]
  },
  {
   "cell_type": "code",
   "execution_count": 22,
   "id": "4760f640-99df-419f-8b0d-97488413c16d",
   "metadata": {},
   "outputs": [
    {
     "name": "stdout",
     "output_type": "stream",
     "text": [
      "October square\n",
      "\n"
     ]
    }
   ],
   "source": [
    "file = open('esse.txt')\n",
    "print(file.read(15))\n",
    "file.close()"
   ]
  },
  {
   "cell_type": "code",
   "execution_count": 24,
   "id": "3d692a12-3c75-4fb0-8605-eb395d2e1a80",
   "metadata": {},
   "outputs": [
    {
     "name": "stdout",
     "output_type": "stream",
     "text": [
      "October square\n",
      "\n"
     ]
    }
   ],
   "source": [
    "file = open('esse.txt')\n",
    "print(file.readline())\n",
    "file.close()"
   ]
  },
  {
   "cell_type": "code",
   "execution_count": 26,
   "id": "07cf2c75-c1cb-41a7-b9ab-ddde47b85c2b",
   "metadata": {},
   "outputs": [
    {
     "name": "stdout",
     "output_type": "stream",
     "text": [
      "['October square\\n', 'knows as \\n', 'central square']\n"
     ]
    }
   ],
   "source": [
    "file = open('esse.txt')\n",
    "print(file.readlines())\n",
    "file.close()"
   ]
  },
  {
   "cell_type": "code",
   "execution_count": 34,
   "id": "9439aca4-1e78-45fa-8827-10ea7a9caad5",
   "metadata": {},
   "outputs": [
    {
     "name": "stdout",
     "output_type": "stream",
     "text": [
      "October square\n",
      "knows as \n",
      "central square  in Minsk\n",
      "\n"
     ]
    }
   ],
   "source": [
    "file = open('esse.txt','a')\n",
    "file.write(' in Minsk' + '\\n')\n",
    "file.close()\n",
    "file = open('esse.txt')\n",
    "print(file.read())\n",
    "file.close()\n"
   ]
  },
  {
   "cell_type": "code",
   "execution_count": 38,
   "id": "a723b69d-eec6-4b16-9093-6cb2ccb7d57e",
   "metadata": {},
   "outputs": [
    {
     "name": "stdout",
     "output_type": "stream",
     "text": [
      "October square\n",
      "knows as \n",
      "central square  in Minsk\n",
      "\n",
      " in some year\n",
      " some years ago \n",
      "\n"
     ]
    }
   ],
   "source": [
    "file = open('esse.txt','a') \n",
    "file.writelines([' in some year\\n', ' some years ago \\n'])\n",
    "file.close()\n",
    "file = open('esse.txt','r')\n",
    "print(file.read())\n",
    "file.close()"
   ]
  },
  {
   "cell_type": "code",
   "execution_count": 44,
   "id": "85282dd7-e704-4f25-92aa-4949e17d1b1f",
   "metadata": {},
   "outputs": [
    {
     "name": "stdout",
     "output_type": "stream",
     "text": [
      "October square\n",
      "knows as \n",
      "central square  in Minsk\n",
      "\n",
      " in some year\n",
      " some years ago \n"
     ]
    }
   ],
   "source": [
    "with open('esse.txt') as file:\n",
    "    for line in file:\n",
    "        print(line, end=\"\")"
   ]
  },
  {
   "cell_type": "markdown",
   "id": "de4ca59f-c7bb-4727-bea0-f9daec9fb4de",
   "metadata": {
    "jp-MarkdownHeadingCollapsed": true
   },
   "source": [
    "# Задание 2.3\n",
    "## Исправление ошибок"
   ]
  },
  {
   "cell_type": "markdown",
   "id": "dfb692d7-4a72-4e25-8ec4-4aff31efd3d1",
   "metadata": {
    "jp-MarkdownHeadingCollapsed": true
   },
   "source": [
    "#### *Ошибка 1*"
   ]
  },
  {
   "cell_type": "code",
   "execution_count": 52,
   "id": "222ff80b-38c5-4b2d-8de3-fb32ee8dac44",
   "metadata": {},
   "outputs": [
    {
     "name": "stdout",
     "output_type": "stream",
     "text": [
      "\\c Æ\n"
     ]
    },
    {
     "name": "stderr",
     "output_type": "stream",
     "text": [
      "<>:1: SyntaxWarning: invalid escape sequence '\\c'\n",
      "<>:1: SyntaxWarning: invalid escape sequence '\\c'\n",
      "C:\\Users\\USER\\AppData\\Local\\Temp\\ipykernel_6196\\1155648579.py:1: SyntaxWarning: invalid escape sequence '\\c'\n",
      "  print('\\c \\xc6')\n"
     ]
    }
   ],
   "source": [
    "print('\\c \\xc6')"
   ]
  },
  {
   "cell_type": "markdown",
   "id": "c1e3c537-3225-4032-94dd-72284f57ab2a",
   "metadata": {},
   "source": [
    "Данная ошибка появляется вследствие того, что питон не распознает символ после \\ в качестве допустимого управляющего кода\n",
    "Исправить это можно либо убрав \\с, либо для отмены действии управляющих символом после косой черты, перед строкой следует поставить `r` или `R`"
   ]
  },
  {
   "cell_type": "code",
   "execution_count": 58,
   "id": "2c0e004c-13be-4264-8547-729396c3053d",
   "metadata": {},
   "outputs": [
    {
     "name": "stdout",
     "output_type": "stream",
     "text": [
      "\\c \\xc6\n",
      "Æ\n"
     ]
    }
   ],
   "source": [
    "print(r'\\c \\xc6')\n",
    "print('\\xc6')"
   ]
  },
  {
   "cell_type": "markdown",
   "id": "78b29108-e031-459f-a42a-93f48bb7b56f",
   "metadata": {
    "jp-MarkdownHeadingCollapsed": true
   },
   "source": [
    "#### *Ошибка 2*"
   ]
  },
  {
   "cell_type": "code",
   "execution_count": 62,
   "id": "68806e37-a8cb-4994-908a-da2f9ff22da3",
   "metadata": {},
   "outputs": [
    {
     "ename": "IndexError",
     "evalue": "string index out of range",
     "output_type": "error",
     "traceback": [
      "\u001b[1;31m---------------------------------------------------------------------------\u001b[0m",
      "\u001b[1;31mIndexError\u001b[0m                                Traceback (most recent call last)",
      "Cell \u001b[1;32mIn[62], line 2\u001b[0m\n\u001b[0;32m      1\u001b[0m str1 \u001b[38;5;241m=\u001b[39m \u001b[38;5;124m'\u001b[39m\u001b[38;5;124mString\u001b[39m\u001b[38;5;124m'\u001b[39m; \n\u001b[1;32m----> 2\u001b[0m str1[\u001b[38;5;241m10\u001b[39m]\n",
      "\u001b[1;31mIndexError\u001b[0m: string index out of range"
     ]
    }
   ],
   "source": [
    "str1 = 'String'; \n",
    "str1[10]"
   ]
  },
  {
   "cell_type": "markdown",
   "id": "981fc10a-d4aa-4174-962f-01b851ea65f5",
   "metadata": {},
   "source": [
    "Индексация за пределами последовательности приводит к ошибке"
   ]
  },
  {
   "cell_type": "markdown",
   "id": "a3c080d3-9b8b-4bbd-92aa-0520804b347b",
   "metadata": {
    "jp-MarkdownHeadingCollapsed": true
   },
   "source": [
    "#### *Ошибка 3*"
   ]
  },
  {
   "cell_type": "code",
   "execution_count": 68,
   "id": "98485119-378a-4a3f-8985-61ab405d84a5",
   "metadata": {},
   "outputs": [
    {
     "ename": "TypeError",
     "evalue": "can only concatenate list (not \"str\") to list",
     "output_type": "error",
     "traceback": [
      "\u001b[1;31m---------------------------------------------------------------------------\u001b[0m",
      "\u001b[1;31mTypeError\u001b[0m                                 Traceback (most recent call last)",
      "Cell \u001b[1;32mIn[68], line 1\u001b[0m\n\u001b[1;32m----> 1\u001b[0m [\u001b[38;5;241m1\u001b[39m] \u001b[38;5;241m+\u001b[39m \u001b[38;5;124m'\u001b[39m\u001b[38;5;124m1\u001b[39m\u001b[38;5;124m'\u001b[39m\n",
      "\u001b[1;31mTypeError\u001b[0m: can only concatenate list (not \"str\") to list"
     ]
    }
   ],
   "source": [
    "[1] + '1'"
   ]
  },
  {
   "cell_type": "markdown",
   "id": "d12c1f8d-b527-49a7-8846-31411170b88f",
   "metadata": {},
   "source": [
    "В выражении с операцией сложения `+` для последовательностей в качестве операндов могут быть использованы только объекты **одного и того же типа. Нельзя использовать последовательности различных типов в операции сложения + из-за строгой типизации объектов в Python. Автоматическое преобразование типов не производится в Python.\n"
   ]
  },
  {
   "cell_type": "markdown",
   "id": "5b57ee2d-7f8d-46b5-aff5-43b31f6ea7c0",
   "metadata": {
    "jp-MarkdownHeadingCollapsed": true
   },
   "source": [
    "#### *Ошибка 4*"
   ]
  },
  {
   "cell_type": "code",
   "execution_count": 73,
   "id": "4c8b4f37-9963-4e4d-a26a-701f67b77861",
   "metadata": {},
   "outputs": [],
   "source": [
    "dict1 = {'one': 1,\"new\":4}"
   ]
  },
  {
   "cell_type": "code",
   "execution_count": 75,
   "id": "75478a7a-9420-4a37-b5fb-4bd709e2a5c9",
   "metadata": {},
   "outputs": [
    {
     "ename": "KeyError",
     "evalue": "'two'",
     "output_type": "error",
     "traceback": [
      "\u001b[1;31m---------------------------------------------------------------------------\u001b[0m",
      "\u001b[1;31mKeyError\u001b[0m                                  Traceback (most recent call last)",
      "Cell \u001b[1;32mIn[75], line 1\u001b[0m\n\u001b[1;32m----> 1\u001b[0m dict1[\u001b[38;5;124m\"\u001b[39m\u001b[38;5;124mtwo\u001b[39m\u001b[38;5;124m\"\u001b[39m]\n",
      "\u001b[1;31mKeyError\u001b[0m: 'two'"
     ]
    }
   ],
   "source": [
    "dict1[\"two\"]"
   ]
  },
  {
   "cell_type": "markdown",
   "id": "4373688e-a715-4ce4-8142-8dc5b47a8407",
   "metadata": {},
   "source": [
    "Индексация по несуществующему ключу словаря приводит к ошибке"
   ]
  },
  {
   "cell_type": "markdown",
   "id": "fe573d2b-4c63-4d6f-96d7-bedaed0bab37",
   "metadata": {
    "jp-MarkdownHeadingCollapsed": true
   },
   "source": [
    "#### *Ошибка 5*"
   ]
  },
  {
   "cell_type": "code",
   "execution_count": 79,
   "id": "1dc9acb5-b945-4c6a-993a-8406d6f7cd7b",
   "metadata": {},
   "outputs": [
    {
     "ename": "TypeError",
     "evalue": "'tuple' object does not support item assignment",
     "output_type": "error",
     "traceback": [
      "\u001b[1;31m---------------------------------------------------------------------------\u001b[0m",
      "\u001b[1;31mTypeError\u001b[0m                                 Traceback (most recent call last)",
      "Cell \u001b[1;32mIn[79], line 1\u001b[0m\n\u001b[1;32m----> 1\u001b[0m t \u001b[38;5;241m=\u001b[39m [\u001b[38;5;241m1\u001b[39m,\u001b[38;5;241m2\u001b[39m], {\u001b[38;5;241m1\u001b[39m:\u001b[38;5;241m2\u001b[39m}, {\u001b[38;5;241m1\u001b[39m,\u001b[38;5;241m2\u001b[39m}; t[\u001b[38;5;241m0\u001b[39m] \u001b[38;5;241m=\u001b[39m \u001b[38;5;241m0\u001b[39m\n",
      "\u001b[1;31mTypeError\u001b[0m: 'tuple' object does not support item assignment"
     ]
    }
   ],
   "source": [
    "t = [1,2], {1:2}, {1,2}; t[0] = 0"
   ]
  },
  {
   "cell_type": "markdown",
   "id": "2d33c875-face-46ea-9986-e123bbf3efe7",
   "metadata": {},
   "source": [
    "Кортеж нельзя изменять, перезаписывать после создания, уменьшить либо увеличить также нельзя"
   ]
  },
  {
   "cell_type": "markdown",
   "id": "087dab4b-dfce-4abd-b0e8-fb4ee0587aec",
   "metadata": {
    "jp-MarkdownHeadingCollapsed": true
   },
   "source": [
    "#### *Ошибка 6*"
   ]
  },
  {
   "cell_type": "code",
   "execution_count": 83,
   "id": "80751a8d-24fd-46dc-a8cf-a6ff8aa4e842",
   "metadata": {},
   "outputs": [
    {
     "ename": "TypeError",
     "evalue": "unhashable type: 'list'",
     "output_type": "error",
     "traceback": [
      "\u001b[1;31m---------------------------------------------------------------------------\u001b[0m",
      "\u001b[1;31mTypeError\u001b[0m                                 Traceback (most recent call last)",
      "Cell \u001b[1;32mIn[83], line 1\u001b[0m\n\u001b[1;32m----> 1\u001b[0m {\u001b[38;5;241m1\u001b[39m, \u001b[38;5;124m'\u001b[39m\u001b[38;5;124mstr\u001b[39m\u001b[38;5;124m'\u001b[39m, (\u001b[38;5;241m1\u001b[39m,)}\u001b[38;5;241m.\u001b[39madd([\u001b[38;5;241m1\u001b[39m])\n",
      "\u001b[1;31mTypeError\u001b[0m: unhashable type: 'list'"
     ]
    }
   ],
   "source": [
    "{1, 'str', (1,)}.add([1])"
   ]
  },
  {
   "cell_type": "markdown",
   "id": "3d2a3cb2-3713-4380-bb31-b640d24f915d",
   "metadata": {},
   "source": [
    "Элементами множества могут являться только объекты неизменяемых типов: число, строка, кортеж. Список является изменяемым объектом\n"
   ]
  },
  {
   "cell_type": "markdown",
   "id": "6f4c0262-7f36-470c-9e6c-2fb55d607706",
   "metadata": {
    "jp-MarkdownHeadingCollapsed": true
   },
   "source": [
    "#### *Ошибка 7*"
   ]
  },
  {
   "cell_type": "code",
   "execution_count": 89,
   "id": "35b5f439-4aa8-4ae0-b133-565cb3b5c930",
   "metadata": {},
   "outputs": [
    {
     "name": "stdout",
     "output_type": "stream",
     "text": [
      "string -1\n"
     ]
    }
   ],
   "source": [
    "s='string'\n",
    "print(s, s.find('-'))"
   ]
  },
  {
   "cell_type": "code",
   "execution_count": 91,
   "id": "a0a2cf2d-8e18-4a2a-bcce-e5d97774abe2",
   "metadata": {},
   "outputs": [
    {
     "ename": "ValueError",
     "evalue": "substring not found",
     "output_type": "error",
     "traceback": [
      "\u001b[1;31m---------------------------------------------------------------------------\u001b[0m",
      "\u001b[1;31mValueError\u001b[0m                                Traceback (most recent call last)",
      "Cell \u001b[1;32mIn[91], line 1\u001b[0m\n\u001b[1;32m----> 1\u001b[0m s\u001b[38;5;241m.\u001b[39mindex(\u001b[38;5;124m'\u001b[39m\u001b[38;5;124m-\u001b[39m\u001b[38;5;124m'\u001b[39m)\n",
      "\u001b[1;31mValueError\u001b[0m: substring not found"
     ]
    }
   ],
   "source": [
    "s.index('-')"
   ]
  },
  {
   "cell_type": "markdown",
   "id": "97615492-67e1-4e4f-b12f-0eeea2874177",
   "metadata": {},
   "source": [
    "Отличаются результаты выполнения методов find и index тогда, когда подстрока не содержится в строке. Find возвращает отрицательный индекс, а index возвращает ошибку."
   ]
  },
  {
   "cell_type": "markdown",
   "id": "c656366c-67e6-488d-8405-d403be3604a0",
   "metadata": {
    "jp-MarkdownHeadingCollapsed": true
   },
   "source": [
    "#### *Ошибка 8*"
   ]
  },
  {
   "cell_type": "code",
   "execution_count": 96,
   "id": "ae3ffada-6071-4a8e-bc8b-4d54ef2a3520",
   "metadata": {},
   "outputs": [
    {
     "ename": "NameError",
     "evalue": "name 'd' is not defined",
     "output_type": "error",
     "traceback": [
      "\u001b[1;31m---------------------------------------------------------------------------\u001b[0m",
      "\u001b[1;31mNameError\u001b[0m                                 Traceback (most recent call last)",
      "Cell \u001b[1;32mIn[96], line 2\u001b[0m\n\u001b[0;32m      1\u001b[0m a \u001b[38;5;241m=\u001b[39m \u001b[38;5;241m1\u001b[39m \n\u001b[1;32m----> 2\u001b[0m a, d\n",
      "\u001b[1;31mNameError\u001b[0m: name 'd' is not defined"
     ]
    }
   ],
   "source": [
    "a = 1 \n",
    "a, d"
   ]
  },
  {
   "cell_type": "markdown",
   "id": "87d83b39-b3f6-4068-b5e5-35d2fc5cfbcb",
   "metadata": {},
   "source": [
    "Чтобы переменную можно было использовать, ей обязательно должно быть присвоено значение. Использование переменной до того, как ей было присвоено значение, всегда приведет к ошибке."
   ]
  },
  {
   "cell_type": "markdown",
   "id": "6dce8b75-f4f7-47f1-80fe-02c1d4ccca35",
   "metadata": {
    "jp-MarkdownHeadingCollapsed": true
   },
   "source": [
    "#### *Ошибка 9*"
   ]
  },
  {
   "cell_type": "code",
   "execution_count": 102,
   "id": "7f5361fd-bc9a-4a7b-a3de-7074a57cad2c",
   "metadata": {},
   "outputs": [
    {
     "ename": "TypeError",
     "evalue": "'int' object is not callable",
     "output_type": "error",
     "traceback": [
      "\u001b[1;31m---------------------------------------------------------------------------\u001b[0m",
      "\u001b[1;31mTypeError\u001b[0m                                 Traceback (most recent call last)",
      "Cell \u001b[1;32mIn[102], line 1\u001b[0m\n\u001b[1;32m----> 1\u001b[0m \u001b[38;5;28mprint\u001b[39m(\u001b[38;5;28mabs\u001b[39m(\u001b[38;5;241m-\u001b[39m\u001b[38;5;241m1\u001b[39m))\n\u001b[0;32m      2\u001b[0m \u001b[38;5;28mabs\u001b[39m \u001b[38;5;241m=\u001b[39m \u001b[38;5;241m5\u001b[39m\n\u001b[0;32m      3\u001b[0m \u001b[38;5;28mprint\u001b[39m(\u001b[38;5;28mabs\u001b[39m(\u001b[38;5;241m-\u001b[39m\u001b[38;5;241m1\u001b[39m))\n",
      "\u001b[1;31mTypeError\u001b[0m: 'int' object is not callable"
     ]
    }
   ],
   "source": [
    "print(abs(-1))\n",
    "abs = 5\n",
    "print(abs(-1))"
   ]
  },
  {
   "cell_type": "markdown",
   "id": "553b1c73-2de2-4819-85eb-82c378bc58c6",
   "metadata": {},
   "source": [
    "Зарезрвированные имена нельзя использовать в качествве переменных"
   ]
  },
  {
   "cell_type": "markdown",
   "id": "6cfe6d8f-2164-40ab-8723-1bc151c6c13a",
   "metadata": {
    "jp-MarkdownHeadingCollapsed": true
   },
   "source": [
    "# Задание 3"
   ]
  },
  {
   "cell_type": "markdown",
   "id": "96b46b3b-e6e4-4a77-9983-d5a418dedb70",
   "metadata": {
    "jp-MarkdownHeadingCollapsed": true
   },
   "source": [
    "#### 1. Что означает “неизменяемость”, и какие три основных типа Python считаются неизменяемыми?"
   ]
  },
  {
   "cell_type": "markdown",
   "id": "4e708d3c-7ff6-46a0-bcba-de06c7c622bf",
   "metadata": {},
   "source": [
    "“Неизменяемый” объект — это такой объект, который после создания нельзя мо\n",
    " дифицировать. К таким объектам относятся строки, кортежи и числа"
   ]
  },
  {
   "cell_type": "code",
   "execution_count": 107,
   "id": "c7ab6b90-9c8b-46fe-b6b4-f495ff39654b",
   "metadata": {},
   "outputs": [
    {
     "ename": "TypeError",
     "evalue": "'str' object does not support item assignment",
     "output_type": "error",
     "traceback": [
      "\u001b[1;31m---------------------------------------------------------------------------\u001b[0m",
      "\u001b[1;31mTypeError\u001b[0m                                 Traceback (most recent call last)",
      "Cell \u001b[1;32mIn[107], line 2\u001b[0m\n\u001b[0;32m      1\u001b[0m s\u001b[38;5;241m=\u001b[39m\u001b[38;5;124m'\u001b[39m\u001b[38;5;124mstroka\u001b[39m\u001b[38;5;124m'\u001b[39m\n\u001b[1;32m----> 2\u001b[0m s[\u001b[38;5;241m0\u001b[39m]\u001b[38;5;241m=\u001b[39m\u001b[38;5;124m'\u001b[39m\u001b[38;5;124mh\u001b[39m\u001b[38;5;124m'\u001b[39m\n",
      "\u001b[1;31mTypeError\u001b[0m: 'str' object does not support item assignment"
     ]
    }
   ],
   "source": [
    "s='stroka'\n",
    "s[0]='h'"
   ]
  },
  {
   "cell_type": "code",
   "execution_count": 109,
   "id": "b5b95379-4096-4123-9b18-ed45e2d3d751",
   "metadata": {},
   "outputs": [
    {
     "ename": "AttributeError",
     "evalue": "'str' object has no attribute 'append'",
     "output_type": "error",
     "traceback": [
      "\u001b[1;31m---------------------------------------------------------------------------\u001b[0m",
      "\u001b[1;31mAttributeError\u001b[0m                            Traceback (most recent call last)",
      "Cell \u001b[1;32mIn[109], line 1\u001b[0m\n\u001b[1;32m----> 1\u001b[0m s\u001b[38;5;241m.\u001b[39mappend(\u001b[38;5;124m'\u001b[39m\u001b[38;5;124mh\u001b[39m\u001b[38;5;124m'\u001b[39m)\n",
      "\u001b[1;31mAttributeError\u001b[0m: 'str' object has no attribute 'append'"
     ]
    }
   ],
   "source": [
    "s.append('h')"
   ]
  },
  {
   "cell_type": "code",
   "execution_count": 111,
   "id": "1b762587-b903-448b-b666-cebb0f4aff82",
   "metadata": {},
   "outputs": [
    {
     "ename": "TypeError",
     "evalue": "'tuple' object does not support item assignment",
     "output_type": "error",
     "traceback": [
      "\u001b[1;31m---------------------------------------------------------------------------\u001b[0m",
      "\u001b[1;31mTypeError\u001b[0m                                 Traceback (most recent call last)",
      "Cell \u001b[1;32mIn[111], line 2\u001b[0m\n\u001b[0;32m      1\u001b[0m t \u001b[38;5;241m=\u001b[39m (\u001b[38;5;241m1\u001b[39m, \u001b[38;5;241m2\u001b[39m, \u001b[38;5;241m3\u001b[39m)\n\u001b[1;32m----> 2\u001b[0m t[\u001b[38;5;241m0\u001b[39m] \u001b[38;5;241m=\u001b[39m \u001b[38;5;241m100\u001b[39m\n",
      "\u001b[1;31mTypeError\u001b[0m: 'tuple' object does not support item assignment"
     ]
    }
   ],
   "source": [
    "t = (1, 2, 3)\n",
    "t[0] = 100 "
   ]
  },
  {
   "cell_type": "code",
   "execution_count": 113,
   "id": "1823a255-c509-4912-b527-e11d49809364",
   "metadata": {},
   "outputs": [
    {
     "ename": "AttributeError",
     "evalue": "'tuple' object has no attribute 'append'",
     "output_type": "error",
     "traceback": [
      "\u001b[1;31m---------------------------------------------------------------------------\u001b[0m",
      "\u001b[1;31mAttributeError\u001b[0m                            Traceback (most recent call last)",
      "Cell \u001b[1;32mIn[113], line 1\u001b[0m\n\u001b[1;32m----> 1\u001b[0m t\u001b[38;5;241m.\u001b[39mappend(\u001b[38;5;241m4\u001b[39m)\n",
      "\u001b[1;31mAttributeError\u001b[0m: 'tuple' object has no attribute 'append'"
     ]
    }
   ],
   "source": [
    "t.append(4)"
   ]
  },
  {
   "cell_type": "code",
   "execution_count": 115,
   "id": "9131146b-a086-4a9c-b29c-ffcb8fcfe33f",
   "metadata": {},
   "outputs": [
    {
     "name": "stdout",
     "output_type": "stream",
     "text": [
      "140723131722456\n",
      "140723131722488\n"
     ]
    }
   ],
   "source": [
    "x=10\n",
    "print(id(x))\n",
    "x+=1\n",
    "print(id(x))"
   ]
  },
  {
   "cell_type": "code",
   "execution_count": 117,
   "id": "eeab8fb6-8ad0-4d0f-bc4e-dfe5eb98026f",
   "metadata": {},
   "outputs": [
    {
     "ename": "TypeError",
     "evalue": "'int' object does not support item assignment",
     "output_type": "error",
     "traceback": [
      "\u001b[1;31m---------------------------------------------------------------------------\u001b[0m",
      "\u001b[1;31mTypeError\u001b[0m                                 Traceback (most recent call last)",
      "Cell \u001b[1;32mIn[117], line 1\u001b[0m\n\u001b[1;32m----> 1\u001b[0m x[\u001b[38;5;241m0\u001b[39m]\u001b[38;5;241m=\u001b[39m\u001b[38;5;241m5\u001b[39m\n",
      "\u001b[1;31mTypeError\u001b[0m: 'int' object does not support item assignment"
     ]
    }
   ],
   "source": [
    "x[0]=5"
   ]
  },
  {
   "cell_type": "markdown",
   "id": "2ebd5658-8cb6-4e42-85be-c1656d26600d",
   "metadata": {
    "jp-MarkdownHeadingCollapsed": true
   },
   "source": [
    "#### 2. Какие инструменты можно использовать для нахождения квадратного корня и квадрата числа?"
   ]
  },
  {
   "cell_type": "markdown",
   "id": "fe733151-61df-4d9f-bef3-259c75f57609",
   "metadata": {},
   "source": [
    "Импортируя модуль math, можно вызвыть функцию math.sqrt(), можно использовать встроенную функцию pow(число ,степень ), либо выражение вида x**степень"
   ]
  },
  {
   "cell_type": "code",
   "execution_count": 126,
   "id": "94a1823d-5ba4-4fdb-906f-424f0074fa83",
   "metadata": {},
   "outputs": [
    {
     "data": {
      "text/plain": [
       "3.0"
      ]
     },
     "execution_count": 126,
     "metadata": {},
     "output_type": "execute_result"
    }
   ],
   "source": [
    "import math\n",
    "math.sqrt(9)"
   ]
  },
  {
   "cell_type": "code",
   "execution_count": 130,
   "id": "6a54bdf7-dcfe-4e76-85a5-377db6f74e4e",
   "metadata": {},
   "outputs": [
    {
     "data": {
      "text/plain": [
       "3.0"
      ]
     },
     "execution_count": 130,
     "metadata": {},
     "output_type": "execute_result"
    }
   ],
   "source": [
    "pow(9,1/2)"
   ]
  },
  {
   "cell_type": "code",
   "execution_count": 132,
   "id": "b40499b3-611d-4d30-93f9-43359bbaa97d",
   "metadata": {},
   "outputs": [
    {
     "data": {
      "text/plain": [
       "3.0"
      ]
     },
     "execution_count": 132,
     "metadata": {},
     "output_type": "execute_result"
    }
   ],
   "source": [
    "9**(1/2)"
   ]
  },
  {
   "cell_type": "markdown",
   "id": "38fb4adf-07e0-41dd-a91c-a6f2cfd8b947",
   "metadata": {
    "jp-MarkdownHeadingCollapsed": true
   },
   "source": [
    "#### 3. Как можно преобразовывать целое число в число с плавающей точкой?"
   ]
  },
  {
   "cell_type": "markdown",
   "id": "9101f44c-ef22-472c-8f30-1a86b175f133",
   "metadata": {},
   "source": [
    "Функция float () преобразует целое число в число с плавающей точкой; смешивание целых чисел и чисел с плавающей точкой внутри выражения также приводит к преобразованию."
   ]
  },
  {
   "cell_type": "code",
   "execution_count": 1,
   "id": "ff36072b-3059-4026-b00d-ea0534acd06d",
   "metadata": {},
   "outputs": [
    {
     "data": {
      "text/plain": [
       "int"
      ]
     },
     "execution_count": 1,
     "metadata": {},
     "output_type": "execute_result"
    }
   ],
   "source": [
    "num=10\n",
    "type(num)"
   ]
  },
  {
   "cell_type": "code",
   "execution_count": 5,
   "id": "237c220c-10d3-4958-9bfc-5aa67c759b7a",
   "metadata": {},
   "outputs": [
    {
     "data": {
      "text/plain": [
       "float"
      ]
     },
     "execution_count": 5,
     "metadata": {},
     "output_type": "execute_result"
    }
   ],
   "source": [
    "num+=0.1\n",
    "type(num)"
   ]
  },
  {
   "cell_type": "code",
   "execution_count": 7,
   "id": "6870fd34-e1ac-45a0-819e-d7f729adb8cd",
   "metadata": {},
   "outputs": [
    {
     "data": {
      "text/plain": [
       "int"
      ]
     },
     "execution_count": 7,
     "metadata": {},
     "output_type": "execute_result"
    }
   ],
   "source": [
    "num=10\n",
    "type(num)"
   ]
  },
  {
   "cell_type": "code",
   "execution_count": 13,
   "id": "19549be7-7bb1-4b9d-be75-3264eac6e709",
   "metadata": {},
   "outputs": [
    {
     "data": {
      "text/plain": [
       "float"
      ]
     },
     "execution_count": 13,
     "metadata": {},
     "output_type": "execute_result"
    }
   ],
   "source": [
    "num=float(num)\n",
    "type(num)"
   ]
  },
  {
   "cell_type": "markdown",
   "id": "864b907b-f565-49b8-a5ba-a63aa683ede3",
   "metadata": {
    "jp-MarkdownHeadingCollapsed": true
   },
   "source": [
    "#### 4. Взгляните на следующие три оператора. Изменяют ли они значение, выводимое для А?</br>\n",
    " А = \"spam”</br>\n",
    " В = А</br>\n",
    " В = \"shrubbery\"</br>"
   ]
  },
  {
   "cell_type": "markdown",
   "id": "eea7a57a-7703-44eb-9d6d-ed9b56a10400",
   "metadata": {},
   "source": [
    "Нет, проверим на какие адреса в памяти ссылаются переменные"
   ]
  },
  {
   "cell_type": "code",
   "execution_count": 38,
   "id": "efcd7c19-24a9-4c37-b05b-da4c6706d987",
   "metadata": {},
   "outputs": [
    {
     "data": {
      "text/plain": [
       "(140721723276648, 140721723276648)"
      ]
     },
     "execution_count": 38,
     "metadata": {},
     "output_type": "execute_result"
    }
   ],
   "source": [
    "A = 'spam'\n",
    "B = A\n",
    "id(A), id(B)"
   ]
  },
  {
   "cell_type": "code",
   "execution_count": 40,
   "id": "3f4768f2-1cb5-43d7-b7bf-791340897f9c",
   "metadata": {},
   "outputs": [
    {
     "data": {
      "text/plain": [
       "(140721723276648, 2294602901424)"
      ]
     },
     "execution_count": 40,
     "metadata": {},
     "output_type": "execute_result"
    }
   ],
   "source": [
    "B = 'shrubbery'\n",
    "id(A), id(B)"
   ]
  },
  {
   "cell_type": "markdown",
   "id": "a19e0d81-a6b5-4633-9606-b9ace96f8803",
   "metadata": {},
   "source": [
    "Когда переменной B присвается новая строка, она начинает указывать на новую строку и связь между обрывается"
   ]
  },
  {
   "cell_type": "markdown",
   "id": "481414ed-b842-46ad-80a3-3ccac43b3f7c",
   "metadata": {
    "jp-MarkdownHeadingCollapsed": true
   },
   "source": [
    "#### 5. Взгляните на приведенные ниже три оператора. Изменяют ли они значение, выводимое для А?\n",
    " А = [\"spam\"]</br>\n",
    " В = А</br>\n",
    " В[0] = \"shrubbery\"</br>"
   ]
  },
  {
   "cell_type": "code",
   "execution_count": 60,
   "id": "ef301a66-f493-4c29-941b-3e285d8ab074",
   "metadata": {},
   "outputs": [
    {
     "data": {
      "text/plain": [
       "(['shrubbery'], ['shrubbery'])"
      ]
     },
     "execution_count": 60,
     "metadata": {},
     "output_type": "execute_result"
    }
   ],
   "source": [
    "A = [\"spam\"]\n",
    "B = A\n",
    "B[0] = \"shrubbery\"\n",
    "A,B"
   ]
  },
  {
   "cell_type": "markdown",
   "id": "b125afbb-26c9-458d-9e2e-dc4068eae602",
   "metadata": {},
   "source": [
    "Да, так как мы изменили объект, на который ссылаются обе переменные"
   ]
  },
  {
   "cell_type": "markdown",
   "id": "01c2218c-5aa1-43b8-9952-ae39ca6937c6",
   "metadata": {
    "jp-MarkdownHeadingCollapsed": true
   },
   "source": [
    "#### 6. Для заданной строки S со значением \"s,pa,m\" назовите два способа извлечения двух символов из середины строки."
   ]
  },
  {
   "cell_type": "markdown",
   "id": "e202f494-1b2a-4461-afa6-f5ff44e119b4",
   "metadata": {},
   "source": [
    "Использовать строковый метод split(sep), который разбивает строку на *список* подстрок по разделителю sep, в нашем случае по запятой, а потом взять нужный элемент из списка</br>\n",
    "Либо можно использовать срезы, сразу выбрав нужный промежуток, где находятся наши символы"
   ]
  },
  {
   "cell_type": "code",
   "execution_count": 81,
   "id": "e1391ab1-4c3d-4f83-a1bc-0a87e25b4891",
   "metadata": {},
   "outputs": [
    {
     "data": {
      "text/plain": [
       "(['s', 'pa', 'm'], 'pa', 'pa')"
      ]
     },
     "execution_count": 81,
     "metadata": {},
     "output_type": "execute_result"
    }
   ],
   "source": [
    "s='s,pa,m'\n",
    "l=s.split(',')\n",
    "l,l[1],s[2:4]"
   ]
  },
  {
   "cell_type": "markdown",
   "id": "85f6f4d1-f43d-47be-ab9d-ce216687ff1b",
   "metadata": {
    "jp-MarkdownHeadingCollapsed": true
   },
   "source": [
    "#### 7. Назовите два способа построения словаря с двумя ключами, ’ а ’ и ’Ь’, с каждым из которых ассоциировано значение 0."
   ]
  },
  {
   "cell_type": "markdown",
   "id": "2cd8bf11-7f8f-4a45-b561-9895ebced375",
   "metadata": {},
   "source": [
    "Словарь можно создать с помощью метода словаря fromkeys, передавая последовательность ключей и одно значение, которое будет ассоциировано со всеми ключами из последовательности"
   ]
  },
  {
   "cell_type": "code",
   "execution_count": 86,
   "id": "23f0aac7-9f63-46e9-9ca7-d52483da70ea",
   "metadata": {},
   "outputs": [
    {
     "data": {
      "text/plain": [
       "{'a': 0, 'b': 0}"
      ]
     },
     "execution_count": 86,
     "metadata": {},
     "output_type": "execute_result"
    }
   ],
   "source": [
    "dict.fromkeys('ab',0)"
   ]
  },
  {
   "cell_type": "markdown",
   "id": "bf470c3e-1586-4c42-9f07-0820ce16a4fb",
   "metadata": {},
   "source": [
    "Использование функции dict()"
   ]
  },
  {
   "cell_type": "code",
   "execution_count": 88,
   "id": "349151d0-2492-4eaf-b1b5-33e5e5a64939",
   "metadata": {},
   "outputs": [
    {
     "data": {
      "text/plain": [
       "{'a': 0, 'b': 0}"
      ]
     },
     "execution_count": 88,
     "metadata": {},
     "output_type": "execute_result"
    }
   ],
   "source": [
    "dict(a=0, b=0)"
   ]
  },
  {
   "cell_type": "markdown",
   "id": "a1f1cdad-0909-4031-a2b0-44ace8634583",
   "metadata": {},
   "source": [
    "Можно использовать серию присваивания "
   ]
  },
  {
   "cell_type": "code",
   "execution_count": 92,
   "id": "bc705bde-cf8c-4d01-9834-3faeebb4f403",
   "metadata": {},
   "outputs": [
    {
     "data": {
      "text/plain": [
       "{'a': 0, 'b': 0}"
      ]
     },
     "execution_count": 92,
     "metadata": {},
     "output_type": "execute_result"
    }
   ],
   "source": [
    "d={}\n",
    "d['a']=0\n",
    "d['b']=0\n",
    "d"
   ]
  },
  {
   "cell_type": "markdown",
   "id": "db655e05-a7a6-4675-ac26-23768f7c5052",
   "metadata": {
    "jp-MarkdownHeadingCollapsed": true
   },
   "source": [
    "#### 8. Напишите выражение, которое изменяет первый элемент в кортеже. В процессе кортеж (4,5,6) должен стать (1,5,6)."
   ]
  },
  {
   "cell_type": "markdown",
   "id": "7b882660-4cb8-4db4-b65b-46617c84443e",
   "metadata": {},
   "source": [
    "Используем разреры для получения нового кортежа"
   ]
  },
  {
   "cell_type": "code",
   "execution_count": 131,
   "id": "76b29353-49a6-4092-8c26-b18148896f32",
   "metadata": {},
   "outputs": [
    {
     "data": {
      "text/plain": [
       "(1, 5, 6)"
      ]
     },
     "execution_count": 131,
     "metadata": {},
     "output_type": "execute_result"
    }
   ],
   "source": [
    "t=(4,5,6)\n",
    "t=(1,)+t[1:]\n",
    "t"
   ]
  },
  {
   "cell_type": "markdown",
   "id": "8d5d6f2c-8a0a-4901-a2cb-f5e03e288d36",
   "metadata": {},
   "source": [
    "Также можно провести ряд преобразвоий используя строки"
   ]
  },
  {
   "cell_type": "code",
   "execution_count": 134,
   "id": "b5b204a7-3e9e-47bb-8fca-1e7ad34626e7",
   "metadata": {},
   "outputs": [
    {
     "name": "stdout",
     "output_type": "stream",
     "text": [
      "(1, 5, 6)\n"
     ]
    }
   ],
   "source": [
    "t = (4, 5, 6)\n",
    "lst = list(t)  \n",
    "lst[0] = 1    \n",
    "t = tuple(lst) \n",
    "print(t)"
   ]
  },
  {
   "cell_type": "code",
   "execution_count": null,
   "id": "98e031d9-f623-4225-8efd-63646cd675d2",
   "metadata": {},
   "outputs": [],
   "source": []
  }
 ],
 "metadata": {
  "kernelspec": {
   "display_name": "Python [conda env:base] *",
   "language": "python",
   "name": "conda-base-py"
  },
  "language_info": {
   "codemirror_mode": {
    "name": "ipython",
    "version": 3
   },
   "file_extension": ".py",
   "mimetype": "text/x-python",
   "name": "python",
   "nbconvert_exporter": "python",
   "pygments_lexer": "ipython3",
   "version": "3.12.7"
  }
 },
 "nbformat": 4,
 "nbformat_minor": 5
}
