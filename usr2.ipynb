{
 "cells": [
  {
   "cell_type": "markdown",
   "id": "3f8999e0-e113-4e66-aeb3-7a4eaaf1f621",
   "metadata": {},
   "source": [
    "1. Для того, чтобы метод класса мог обрабатывать конкретный экземпляр класса, метод при определении ДОЛЖЕН содержать специальный первый аргумент, который по соглашению называется self (при определении метода аргумент self указан явно) *для неявной передачи методу класса экземпляра класса, на котором был вызван метод (при вызове метода аргумент указан неявно).* Аргумент self метода класса связывает метод класса с экземпляром класса, на котором осуществляется вызов этого метода.Через атрибут __self__ объекта связанного метода можно получить доступ к экземпляру класса, на котором вызывается метод.</br> \n",
    "cls это аргумент который содержится в классовом методе для связывания с объектом КЛАССА, на котором метод был вызван."
   ]
  },
  {
   "cell_type": "code",
   "execution_count": 7,
   "id": "d218e20f-3da1-4f25-9cca-b7ed877d1ba1",
   "metadata": {},
   "outputs": [],
   "source": [
    "class Class1:\n",
    "    pass\n",
    "class Class2(Class1):\n",
    "    pass\n",
    "class Class3(Class2):\n",
    "    pass\n",
    "x=Class1()\n",
    "y=Class2()\n",
    "z=Class3()"
   ]
  },
  {
   "cell_type": "code",
   "execution_count": 9,
   "id": "32ba524a-c6a2-4e2d-866b-29b1a27b9683",
   "metadata": {},
   "outputs": [
    {
     "data": {
      "text/plain": [
       "(__main__.Class1, __main__.Class2, __main__.Class3)"
      ]
     },
     "execution_count": 9,
     "metadata": {},
     "output_type": "execute_result"
    }
   ],
   "source": [
    "x.__class__,y.__class__,z.__class__\n"
   ]
  },
  {
   "cell_type": "code",
   "execution_count": 11,
   "id": "519bdae0-c0d4-4932-84d2-c5bd15a2d2c8",
   "metadata": {},
   "outputs": [
    {
     "data": {
      "text/plain": [
       "((object,), (__main__.Class1,), (__main__.Class2,))"
      ]
     },
     "execution_count": 11,
     "metadata": {},
     "output_type": "execute_result"
    }
   ],
   "source": [
    "Class1.__bases__, Class2.__bases__, Class3.__bases__"
   ]
  },
  {
   "cell_type": "code",
   "execution_count": 108,
   "id": "177ea59d-bb4e-48a6-94ef-a6c17e69df2d",
   "metadata": {},
   "outputs": [
    {
     "data": {
      "text/plain": [
       "(True, False)"
      ]
     },
     "execution_count": 108,
     "metadata": {},
     "output_type": "execute_result"
    }
   ],
   "source": [
    "class Complex:\n",
    "    def __init__(self,real,imag):\n",
    "        self.real=real\n",
    "        self.imag=imag\n",
    "    def sopr(self):\n",
    "        return Complex(self.real,-self.imag)\n",
    "    def __eq__(self,other):\n",
    "        return self.real==other.real and self.imag==other.imag\n",
    "    def __repr__(self):\n",
    "        sign = '+' if self.imag >= 0 else '-'\n",
    "        return f\"{self.real} {sign} {abs(self.imag)}i\"\n",
    "i1=Complex(2,3)\n",
    "i2=Complex(2,3)\n",
    "i3=Complex(3,2)\n",
    "i1 == i2,i2 == i3"
   ]
  },
  {
   "cell_type": "code",
   "execution_count": 110,
   "id": "7f08c131-4526-49d2-8563-15c3fad12d73",
   "metadata": {},
   "outputs": [
    {
     "data": {
      "text/plain": [
       "2 - 3i"
      ]
     },
     "execution_count": 110,
     "metadata": {},
     "output_type": "execute_result"
    }
   ],
   "source": [
    "i2.sopr()"
   ]
  },
  {
   "cell_type": "code",
   "execution_count": 58,
   "id": "70da7fc7-784a-4278-bcdf-707a3a880117",
   "metadata": {},
   "outputs": [
    {
     "name": "stdout",
     "output_type": "stream",
     "text": [
      "<__main__.Stack object at 0x000001B9C6994920>\n"
     ]
    }
   ],
   "source": [
    "class Stack:\n",
    "        def __init__(self):\n",
    "                self.items =[]\n",
    "        def push(self, item):\n",
    "                self.items.append(item)\n",
    "ex=Stack()\n",
    "for i in range(100):\n",
    "    ex.push(i)\n",
    "print(ex)"
   ]
  },
  {
   "cell_type": "markdown",
   "id": "8cc322ea-b637-4e65-8447-ea460cbc6616",
   "metadata": {},
   "source": [
    "При таком связывании классов говорят о реализации концепции ООП композиция. Экземпляр класса `BinaryTree` называют объектом-контейнером для экземпляра класса `EmptyNode` или `BinaryNode`.</br>\n",
    "Экземпляр класса BinaryNode содержит атрибуты left и right , которые хранят ссылки на экземпляры классов BinaryNode или EmptyNode . Экземпляр класса BinaryNode является объектом-контейнером для двух экземпляров класса BinaryNode или EmptyNode , которые ссылаются на корневые вершины левого и правого поддеревьев."
   ]
  },
  {
   "cell_type": "code",
   "execution_count": 73,
   "id": "92a1e486-13f8-468c-99ce-6ee0cfc33154",
   "metadata": {},
   "outputs": [],
   "source": [
    "class BinaryNode:\n",
    "    def __init__(self, left, value, right):\n",
    "        self.left = left\n",
    "        self.value = value\n",
    "        self.right = right\n",
    "\n",
    "    def __repr__(self):\n",
    "        return f'({self.left}, {self.value}, {self.right})'\n",
    "\n",
    "    def insert(self, value):\n",
    "         if value<self.value:\n",
    "             self.left =self.left.insert(value)\n",
    "         else:\n",
    "             self.right =self.right.insert(value)\n",
    "         return self\n",
    "class EmptyNode:\n",
    "    def __repr__(self):\n",
    "        return '*'\n",
    "\n",
    "    def insert(self, value):\n",
    "        return BinaryNode(self, value, self)\n",
    "class BinaryTree:\n",
    "    def __init__(self):\n",
    "        self.root = EmptyNode()\n",
    "    def __repr__(self):\n",
    "        return repr(self.root)\n",
    "    def insert(self, value):\n",
    "        self.root = self.root.insert(value)"
   ]
  },
  {
   "cell_type": "markdown",
   "id": "12e1ddb3-9e79-4397-af92-9b8b57cd9f39",
   "metadata": {},
   "source": [
    "None нельзя вставить в обычное бинарное дерево поиска, потому что при сравнении с числами возникает ошибка. None не поддерживает сравнение с числами\n",
    "</br> логическое значение False имеет числовой эквивалент 0. если бинарное дерево поиска построено на числах, то False можно вставить. Он будет восприниматься как 0. Однако, если в дереве уже есть 0, то False считается равным ему."
   ]
  },
  {
   "cell_type": "code",
   "execution_count": 101,
   "id": "cc8b0192-6d6d-48dc-876e-74131e58691a",
   "metadata": {},
   "outputs": [
    {
     "data": {
      "text/plain": [
       "90"
      ]
     },
     "execution_count": 101,
     "metadata": {},
     "output_type": "execute_result"
    }
   ],
   "source": [
    "class Example:\n",
    "    attr='Book'\n",
    "\n",
    "    def __init__(self, title, cost):\n",
    "        self.title = title   \n",
    "        self._cost = cost\n",
    "        \n",
    "    @property\n",
    "    def prop(self):        # геттер (чтение)\n",
    "        return self._cost\n",
    "\n",
    "    @prop.setter\n",
    "    def prop(self, val):   # сеттер (запись)\n",
    "        self._cost = val\n",
    "        \n",
    "    @prop.deleter\n",
    "    def prop(self):\n",
    "        self._cost=0\n",
    "        \n",
    "    @staticmethod\n",
    "    def expensive(m):\n",
    "        return m>100\n",
    "        \n",
    "    @classmethod\n",
    "    def new_lit(cls,obj):\n",
    "        for key, value in obj.items():\n",
    "            return cls(key,value)\n",
    "            \n",
    "e=Example(\"1984\", 150)\n",
    "Example.attr, e, e.prop\n",
    "e.prop=90\n",
    "e.prop\n",
    "print(Example.expensive(120))  \n",
    "print(e.expensive(50))   \n",
    "d = {'Война и мир': 200}\n",
    "new_e = Example.new_lit(d)\n",
    "print(new_e.title)  \n",
    "print(new_e.prop)"
   ]
  },
  {
   "cell_type": "code",
   "execution_count": 103,
   "id": "871c46d0-b1ae-4749-80c6-a76314ea2503",
   "metadata": {},
   "outputs": [
    {
     "name": "stdout",
     "output_type": "stream",
     "text": [
      "True\n",
      "False\n"
     ]
    }
   ],
   "source": [
    "print(Example.expensive(120))  \n",
    "print(e.expensive(50))   "
   ]
  },
  {
   "cell_type": "code",
   "execution_count": 105,
   "id": "1dcffa15-724b-43b3-97e2-d8e2e264477b",
   "metadata": {},
   "outputs": [
    {
     "name": "stdout",
     "output_type": "stream",
     "text": [
      "Война и мир\n",
      "200\n"
     ]
    }
   ],
   "source": [
    "d = {'Война и мир': 200}\n",
    "new_e = Example.new_lit(d)\n",
    "print(new_e.title)  \n",
    "print(new_e.prop)  "
   ]
  },
  {
   "cell_type": "code",
   "execution_count": null,
   "id": "eba835d4-a994-4b8e-998f-b4766afd9cb3",
   "metadata": {},
   "outputs": [],
   "source": []
  }
 ],
 "metadata": {
  "kernelspec": {
   "display_name": "Python [conda env:base] *",
   "language": "python",
   "name": "conda-base-py"
  },
  "language_info": {
   "codemirror_mode": {
    "name": "ipython",
    "version": 3
   },
   "file_extension": ".py",
   "mimetype": "text/x-python",
   "name": "python",
   "nbconvert_exporter": "python",
   "pygments_lexer": "ipython3",
   "version": "3.12.7"
  }
 },
 "nbformat": 4,
 "nbformat_minor": 5
}
