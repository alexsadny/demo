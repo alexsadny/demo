{
 "cells": [
  {
   "cell_type": "markdown",
   "id": "9ade750f-b4b9-41ed-8423-36537baac590",
   "metadata": {},
   "source": [
    "# Лабораторная работа 3\n",
    "# Анимация движения секущей прямой к заданной линии на плоскости"
   ]
  },
  {
   "cell_type": "markdown",
   "id": "255dd056-0a94-4745-9800-99bf1166b9c1",
   "metadata": {},
   "source": [
    "#### Присяжнюк Александра, 14.03 "
   ]
  },
  {
   "cell_type": "markdown",
   "id": "5e9cbdae-c02d-4126-a77e-27cbe1b09891",
   "metadata": {},
   "source": [
    "# Задание 3.1. Анимированное построение линии на плоскости"
   ]
  },
  {
   "cell_type": "markdown",
   "id": "76a6ee5b-316a-4885-9b44-01c54783d45d",
   "metadata": {},
   "source": [
    "## Реализация Задания 3.1a"
   ]
  },
  {
   "cell_type": "code",
   "execution_count": 173,
   "id": "ea596324-20ab-49f8-bb1b-e2d832404ab9",
   "metadata": {},
   "outputs": [],
   "source": [
    "import ipympl\n",
    "import sympy"
   ]
  },
  {
   "cell_type": "code",
   "execution_count": 175,
   "id": "92d62ad9-408e-4167-9b23-34020fa95b6f",
   "metadata": {},
   "outputs": [],
   "source": [
    "import ipywidgets"
   ]
  },
  {
   "cell_type": "code",
   "execution_count": 177,
   "id": "d39782c1-0393-4053-9285-247e3fbe593b",
   "metadata": {},
   "outputs": [],
   "source": [
    "import numpy as np"
   ]
  },
  {
   "cell_type": "code",
   "execution_count": 179,
   "id": "ec169b0f-0256-4375-a994-e12c63f086ce",
   "metadata": {},
   "outputs": [],
   "source": [
    "import matplotlib.pyplot as plt"
   ]
  },
  {
   "cell_type": "markdown",
   "id": "3df64ae8-eaaf-4013-8703-df5fd55b2d95",
   "metadata": {},
   "source": [
    "Для построения анимации будем использовать функцию `FuncAnimation` из модуля `animation` пакета `matplotlib`"
   ]
  },
  {
   "cell_type": "code",
   "execution_count": 182,
   "id": "d6035d55-b36e-4fca-acdc-4b88903895c5",
   "metadata": {},
   "outputs": [],
   "source": [
    "from matplotlib.animation import FuncAnimation"
   ]
  },
  {
   "cell_type": "code",
   "execution_count": 184,
   "id": "a15b7573-0ae0-4d73-8c93-4f804a461dde",
   "metadata": {},
   "outputs": [],
   "source": [
    "%matplotlib widget"
   ]
  },
  {
   "cell_type": "markdown",
   "id": "e3469abc-058e-4ee9-bb57-b396a30f13cd",
   "metadata": {},
   "source": [
    "Будем строить анимацию для функции вида $y(x) = \\sin(x)^4$ по значениям $x$, изменяющимся от $x_{min} = 1$ до $x_{max} = 5$ с шагом $step = 0.05$."
   ]
  },
  {
   "cell_type": "markdown",
   "id": "0fe67d92-e3cc-42b2-a719-a184b42a72bd",
   "metadata": {},
   "source": [
    "**Определение функции**  \n",
    "Определим функцию $y(x)$ с применением оператора `def`:"
   ]
  },
  {
   "cell_type": "code",
   "execution_count": 188,
   "id": "680781b1-e9a4-4d84-842a-f46666588607",
   "metadata": {},
   "outputs": [],
   "source": [
    "import numpy as np\n",
    "import matplotlib.pyplot as plt\n",
    "\n",
    "def y(x):\n",
    "    return np.sin(x)**4"
   ]
  },
  {
   "cell_type": "markdown",
   "id": "873a6d71-3c02-4f86-ae4f-51473f6cdb1a",
   "metadata": {},
   "source": [
    "**Создание переменных**  \n",
    "Определим границы изменения $x$ и шаг:"
   ]
  },
  {
   "cell_type": "code",
   "execution_count": 191,
   "id": "9a28de33-49cb-47f7-85cb-53e2448fd8d0",
   "metadata": {},
   "outputs": [],
   "source": [
    "x_min = 1.; x_max = 5.; step = 0.05"
   ]
  },
  {
   "cell_type": "markdown",
   "id": "a6d2fe5c-6ba2-44ce-b4cc-c5306ba89f99",
   "metadata": {},
   "source": [
    "**Создание массивов**\n",
    "Создадим массив `x_array`, содержащий равномерно распределенные числа на отрезке $[x_{min}, x_{max}]$ с шагом `step`, с помощью функции `arange`. Затем создадим массив `y_array`, содержащий соответствующие значения $y$, используя определённую ранее функцию `y`:"
   ]
  },
  {
   "cell_type": "code",
   "execution_count": 194,
   "id": "dca2c1c7-dad3-4b05-b854-e44e3d42e988",
   "metadata": {},
   "outputs": [],
   "source": [
    "x_array = np.arange(x_min, x_max, step)\n",
    "y_array = y(x_array)"
   ]
  },
  {
   "cell_type": "markdown",
   "id": "0827d5cc-c606-41e7-8539-c0c005b7012e",
   "metadata": {},
   "source": [
    "**Формирование матрицы координат**  \n",
    "Из двух массивов `x_array` и `y_array` создадим матрицу `matrix`, содержащую координаты точек графика функции $y(x)$. Матрица будет состоять из двух столбцов: первый содержит $x$-координаты, второй — $y$-координаты:"
   ]
  },
  {
   "cell_type": "code",
   "execution_count": 197,
   "id": "c76bc870-f30d-4889-bb1a-f8279ec0a62c",
   "metadata": {},
   "outputs": [],
   "source": [
    "matrix = np.transpose([x_array, y_array])"
   ]
  },
  {
   "cell_type": "markdown",
   "id": "6f0d30c8-8ef7-44ee-80fc-cbf7f9b57b69",
   "metadata": {},
   "source": [
    "**Создание графического окна**  \n",
    "С помощью функции `figure` из модуля `pyplot` создадим графическое окно `fig1`, в котором в дальнейшем будет отображаться анимация:"
   ]
  },
  {
   "cell_type": "code",
   "execution_count": 200,
   "id": "05179fe5-5d86-47de-abc7-01df371d052d",
   "metadata": {},
   "outputs": [
    {
     "data": {
      "application/vnd.jupyter.widget-view+json": {
       "model_id": "9c7a35e17f1f4cc1bcd44ceb756622ca",
       "version_major": 2,
       "version_minor": 0
      },
      "image/png": "[encoded data removed]",
      "text/html": [
       "\n",
       "            <div style=\"display: inline-block;\">\n",
       "                <div class=\"jupyter-widgets widget-label\" style=\"text-align: center;\">\n",
       "                    Figure\n",
       "                </div>\n",
       "                <img src='data:image/png;base64,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' width=640.0/>\n",
       "            </div>\n",
       "        "
      ],
      "text/plain": [
       "Canvas(toolbar=Toolbar(toolitems=[('Home', 'Reset original view', 'home', 'home'), ('Back', 'Back to previous …"
      ]
     },
     "metadata": {},
     "output_type": "display_data"
    }
   ],
   "source": [
    "fig1 = plt.figure()"
   ]
  },
  {
   "cell_type": "markdown",
   "id": "f2a6b325-d601-4548-96d2-c50f8e4a1aff",
   "metadata": {},
   "source": [
    "C помощью функции `axes` из модуля `pyplot` cоздадим графическую область `ax1` и зададим для нее пределы по осям"
   ]
  },
  {
   "cell_type": "code",
   "execution_count": 203,
   "id": "212de79e-038f-44f5-9233-5923509aea32",
   "metadata": {},
   "outputs": [
    {
     "data": {
      "text/plain": [
       "(0.5, 5.5, -0.499999995004082, 1.4996930655910048)"
      ]
     },
     "execution_count": 203,
     "metadata": {},
     "output_type": "execute_result"
    }
   ],
   "source": [
    "y_min, y_max = np.min(y_array), np.max(y_array)\n",
    "ax1 = plt.axes()\n",
    "plt.axis([x_min-0.5, x_max+0.5, y_min-0.5, y_max+0.5])\n"
   ]
  },
  {
   "cell_type": "markdown",
   "id": "a263a6ee-de86-4822-9e82-8bd177078d32",
   "metadata": {},
   "source": [
    "С помощью функции `plot` из пакета `pyplot` создадим в графической области\n",
    "`ax1` графический объект типа `Line2D` синего цвета, координаты которого пока не определены"
   ]
  },
  {
   "cell_type": "code",
   "execution_count": 206,
   "id": "c86298cb-996b-42a3-8f70-896ab093469b",
   "metadata": {},
   "outputs": [
    {
     "name": "stdout",
     "output_type": "stream",
     "text": [
      "<class 'matplotlib.lines.Line2D'>\n"
     ]
    },
    {
     "data": {
      "text/plain": [
       "(array([], dtype=float64), array([], dtype=float64))"
      ]
     },
     "execution_count": 206,
     "metadata": {},
     "output_type": "execute_result"
    }
   ],
   "source": [
    "line1, = ax1.plot([],[],'b')\n",
    "print(type(line1))\n",
    "line1.get_xdata(), line1.get_ydata()"
   ]
  },
  {
   "cell_type": "code",
   "execution_count": 208,
   "id": "973a6e0d-6738-461e-9c0a-2e925e4b4113",
   "metadata": {},
   "outputs": [
    {
     "data": {
      "text/plain": [
       "\u001b[1;31mSignature:\u001b[0m \u001b[0mline1\u001b[0m\u001b[1;33m.\u001b[0m\u001b[0mget_xdata\u001b[0m\u001b[1;33m(\u001b[0m\u001b[0morig\u001b[0m\u001b[1;33m=\u001b[0m\u001b[1;32mTrue\u001b[0m\u001b[1;33m)\u001b[0m\u001b[1;33m\u001b[0m\u001b[1;33m\u001b[0m\u001b[0m\n",
       "\u001b[1;31mDocstring:\u001b[0m\n",
       "Return the xdata.\n",
       "\n",
       "If *orig* is *True*, return the original data, else the\n",
       "processed data.\n",
       "\u001b[1;31mFile:\u001b[0m      c:\\users\\user\\anaconda3\\lib\\site-packages\\matplotlib\\lines.py\n",
       "\u001b[1;31mType:\u001b[0m      method"
      ]
     },
     "metadata": {},
     "output_type": "display_data"
    }
   ],
   "source": [
    "?line1.get_xdata"
   ]
  },
  {
   "cell_type": "markdown",
   "id": "f5beffb9-a56d-488c-9d03-395512f62fe4",
   "metadata": {},
   "source": [
    "Определим пользовательскую функцию одного аргумента `at_frame1` , которая будет вызываться в каждом кадре анимации. </br>\n",
    "Единственный аргумент функции `at_frame1` является массивом из и координат точки графика функции. Функция `at_frame1` добавляет к графическому объекту `line1` точку с координатами $(x,y)$"
   ]
  },
  {
   "cell_type": "code",
   "execution_count": 211,
   "id": "8862e27f-e1ed-4c8c-8188-8138aebc2810",
   "metadata": {},
   "outputs": [],
   "source": [
    "def at_frame1(point):\n",
    " \"\"\"добавляет к объекту line1 точку с координатами (point[0],point[1])\n",
    "\n",
    " Arguments :\n",
    "\n",
    " point : массив из двух элементов\n",
    "\n",
    " Returns : None\n",
    " \"\"\"\n",
    " x_coord = list(line1.get_xdata())\n",
    " y_coord = list(line1.get_ydata())\n",
    "\n",
    " x_coord.append(point[0])\n",
    " y_coord.append(point[1])\n",
    "\n",
    " line1.set_data(x_coord, y_coord) "
   ]
  },
  {
   "cell_type": "code",
   "execution_count": 213,
   "id": "aee38b23-79ee-4924-82ec-021b6f9eab60",
   "metadata": {},
   "outputs": [
    {
     "data": {
      "text/plain": [
       "\u001b[1;31mSignature:\u001b[0m \u001b[0mline1\u001b[0m\u001b[1;33m.\u001b[0m\u001b[0mset_data\u001b[0m\u001b[1;33m(\u001b[0m\u001b[1;33m*\u001b[0m\u001b[0margs\u001b[0m\u001b[1;33m)\u001b[0m\u001b[1;33m\u001b[0m\u001b[1;33m\u001b[0m\u001b[0m\n",
       "\u001b[1;31mDocstring:\u001b[0m\n",
       "Set the x and y data.\n",
       "\n",
       "Parameters\n",
       "----------\n",
       "*args : (2, N) array or two 1D arrays\n",
       "\n",
       "See Also\n",
       "--------\n",
       "set_xdata\n",
       "set_ydata\n",
       "\u001b[1;31mFile:\u001b[0m      c:\\users\\user\\anaconda3\\lib\\site-packages\\matplotlib\\lines.py\n",
       "\u001b[1;31mType:\u001b[0m      method"
      ]
     },
     "metadata": {},
     "output_type": "display_data"
    }
   ],
   "source": [
    "?line1.set_data"
   ]
  },
  {
   "cell_type": "code",
   "execution_count": 215,
   "id": "1a6d2c9b-2709-439a-b6dc-171c2a155aca",
   "metadata": {},
   "outputs": [
    {
     "name": "stdout",
     "output_type": "stream",
     "text": [
      "Help on function at_frame1 in module __main__:\n",
      "\n",
      "at_frame1(point)\n",
      "    добавляет к объекту line1 точку с координатами (point[0],point[1])\n",
      "\n",
      "    Arguments :\n",
      "\n",
      "    point : массив из двух элементов\n",
      "\n",
      "    Returns : None\n",
      "\n"
     ]
    }
   ],
   "source": [
    "help(at_frame1)"
   ]
  },
  {
   "cell_type": "code",
   "execution_count": 217,
   "id": "5efad657-bb99-49cb-a446-3983e0dc1823",
   "metadata": {},
   "outputs": [
    {
     "data": {
      "text/plain": [
       "\u001b[1;31mSignature:\u001b[0m \u001b[0mat_frame1\u001b[0m\u001b[1;33m(\u001b[0m\u001b[0mpoint\u001b[0m\u001b[1;33m)\u001b[0m\u001b[1;33m\u001b[0m\u001b[1;33m\u001b[0m\u001b[0m\n",
       "\u001b[1;31mDocstring:\u001b[0m\n",
       "добавляет к объекту line1 точку с координатами (point[0],point[1])\n",
       "\n",
       "Arguments :\n",
       "\n",
       "point : массив из двух элементов\n",
       "\n",
       "Returns : None\n",
       "\u001b[1;31mFile:\u001b[0m      c:\\users\\user\\appdata\\local\\temp\\ipykernel_22272\\1118907211.py\n",
       "\u001b[1;31mType:\u001b[0m      function"
      ]
     },
     "metadata": {},
     "output_type": "display_data"
    }
   ],
   "source": [
    "?at_frame1"
   ]
  },
  {
   "cell_type": "code",
   "execution_count": 219,
   "id": "c4c5e165-f3fd-4cb4-96e9-5818a51ee4b8",
   "metadata": {},
   "outputs": [
    {
     "name": "stdout",
     "output_type": "stream",
     "text": [
      "добавляет к объекту line1 точку с координатами (point[0],point[1])\n",
      "\n",
      " Arguments :\n",
      "\n",
      " point : массив из двух элементов\n",
      "\n",
      " Returns : None\n",
      " \n"
     ]
    }
   ],
   "source": [
    "print(at_frame1.__doc__)"
   ]
  },
  {
   "cell_type": "code",
   "execution_count": 221,
   "id": "e5f81aed-e3d5-4029-a99f-fed02a7518e6",
   "metadata": {},
   "outputs": [
    {
     "data": {
      "text/plain": [
       "\u001b[1;31mInit signature:\u001b[0m\n",
       "\u001b[0mFuncAnimation\u001b[0m\u001b[1;33m(\u001b[0m\u001b[1;33m\n",
       "\u001b[0m    \u001b[0mfig\u001b[0m\u001b[1;33m,\u001b[0m\u001b[1;33m\n",
       "\u001b[0m    \u001b[0mfunc\u001b[0m\u001b[1;33m,\u001b[0m\u001b[1;33m\n",
       "\u001b[0m    \u001b[0mframes\u001b[0m\u001b[1;33m=\u001b[0m\u001b[1;32mNone\u001b[0m\u001b[1;33m,\u001b[0m\u001b[1;33m\n",
       "\u001b[0m    \u001b[0minit_func\u001b[0m\u001b[1;33m=\u001b[0m\u001b[1;32mNone\u001b[0m\u001b[1;33m,\u001b[0m\u001b[1;33m\n",
       "\u001b[0m    \u001b[0mfargs\u001b[0m\u001b[1;33m=\u001b[0m\u001b[1;32mNone\u001b[0m\u001b[1;33m,\u001b[0m\u001b[1;33m\n",
       "\u001b[0m    \u001b[0msave_count\u001b[0m\u001b[1;33m=\u001b[0m\u001b[1;32mNone\u001b[0m\u001b[1;33m,\u001b[0m\u001b[1;33m\n",
       "\u001b[0m    \u001b[1;33m*\u001b[0m\u001b[1;33m,\u001b[0m\u001b[1;33m\n",
       "\u001b[0m    \u001b[0mcache_frame_data\u001b[0m\u001b[1;33m=\u001b[0m\u001b[1;32mTrue\u001b[0m\u001b[1;33m,\u001b[0m\u001b[1;33m\n",
       "\u001b[0m    \u001b[1;33m**\u001b[0m\u001b[0mkwargs\u001b[0m\u001b[1;33m,\u001b[0m\u001b[1;33m\n",
       "\u001b[0m\u001b[1;33m)\u001b[0m\u001b[1;33m\u001b[0m\u001b[1;33m\u001b[0m\u001b[0m\n",
       "\u001b[1;31mDocstring:\u001b[0m     \n",
       "`TimedAnimation` subclass that makes an animation by repeatedly calling\n",
       "a function *func*.\n",
       "\n",
       ".. note::\n",
       "\n",
       "    You must store the created Animation in a variable that lives as long\n",
       "    as the animation should run. Otherwise, the Animation object will be\n",
       "    garbage-collected and the animation stops.\n",
       "\n",
       "Parameters\n",
       "----------\n",
       "fig : `~matplotlib.figure.Figure`\n",
       "    The figure object used to get needed events, such as draw or resize.\n",
       "\n",
       "func : callable\n",
       "    The function to call at each frame.  The first argument will\n",
       "    be the next value in *frames*.   Any additional positional\n",
       "    arguments can be supplied using `functools.partial` or via the *fargs*\n",
       "    parameter.\n",
       "\n",
       "    The required signature is::\n",
       "\n",
       "        def func(frame, *fargs) -> iterable_of_artists\n",
       "\n",
       "    It is often more convenient to provide the arguments using\n",
       "    `functools.partial`. In this way it is also possible to pass keyword\n",
       "    arguments. To pass a function with both positional and keyword\n",
       "    arguments, set all arguments as keyword arguments, just leaving the\n",
       "    *frame* argument unset::\n",
       "\n",
       "        def func(frame, art, *, y=None):\n",
       "            ...\n",
       "\n",
       "        ani = FuncAnimation(fig, partial(func, art=ln, y='foo'))\n",
       "\n",
       "    If ``blit == True``, *func* must return an iterable of all artists\n",
       "    that were modified or created. This information is used by the blitting\n",
       "    algorithm to determine which parts of the figure have to be updated.\n",
       "    The return value is unused if ``blit == False`` and may be omitted in\n",
       "    that case.\n",
       "\n",
       "frames : iterable, int, generator function, or None, optional\n",
       "    Source of data to pass *func* and each frame of the animation\n",
       "\n",
       "    - If an iterable, then simply use the values provided.  If the\n",
       "      iterable has a length, it will override the *save_count* kwarg.\n",
       "\n",
       "    - If an integer, then equivalent to passing ``range(frames)``\n",
       "\n",
       "    - If a generator function, then must have the signature::\n",
       "\n",
       "         def gen_function() -> obj\n",
       "\n",
       "    - If *None*, then equivalent to passing ``itertools.count``.\n",
       "\n",
       "    In all of these cases, the values in *frames* is simply passed through\n",
       "    to the user-supplied *func* and thus can be of any type.\n",
       "\n",
       "init_func : callable, optional\n",
       "    A function used to draw a clear frame. If not given, the results of\n",
       "    drawing from the first item in the frames sequence will be used. This\n",
       "    function will be called once before the first frame.\n",
       "\n",
       "    The required signature is::\n",
       "\n",
       "        def init_func() -> iterable_of_artists\n",
       "\n",
       "    If ``blit == True``, *init_func* must return an iterable of artists\n",
       "    to be re-drawn. This information is used by the blitting algorithm to\n",
       "    determine which parts of the figure have to be updated.  The return\n",
       "    value is unused if ``blit == False`` and may be omitted in that case.\n",
       "\n",
       "fargs : tuple or None, optional\n",
       "    Additional arguments to pass to each call to *func*. Note: the use of\n",
       "    `functools.partial` is preferred over *fargs*. See *func* for details.\n",
       "\n",
       "save_count : int, optional\n",
       "    Fallback for the number of values from *frames* to cache. This is\n",
       "    only used if the number of frames cannot be inferred from *frames*,\n",
       "    i.e. when it's an iterator without length or a generator.\n",
       "\n",
       "interval : int, default: 200\n",
       "    Delay between frames in milliseconds.\n",
       "\n",
       "repeat_delay : int, default: 0\n",
       "    The delay in milliseconds between consecutive animation runs, if\n",
       "    *repeat* is True.\n",
       "\n",
       "repeat : bool, default: True\n",
       "    Whether the animation repeats when the sequence of frames is completed.\n",
       "\n",
       "blit : bool, default: False\n",
       "    Whether blitting is used to optimize drawing.  Note: when using\n",
       "    blitting, any animated artists will be drawn according to their zorder;\n",
       "    however, they will be drawn on top of any previous artists, regardless\n",
       "    of their zorder.\n",
       "\n",
       "cache_frame_data : bool, default: True\n",
       "    Whether frame data is cached.  Disabling cache might be helpful when\n",
       "    frames contain large objects.\n",
       "\u001b[1;31mFile:\u001b[0m           c:\\users\\user\\anaconda3\\lib\\site-packages\\matplotlib\\animation.py\n",
       "\u001b[1;31mType:\u001b[0m           type\n",
       "\u001b[1;31mSubclasses:\u001b[0m     "
      ]
     },
     "metadata": {},
     "output_type": "display_data"
    }
   ],
   "source": [
    "?FuncAnimation"
   ]
  },
  {
   "cell_type": "code",
   "execution_count": 223,
   "id": "66c7131b-403b-4a79-b620-1bad12fccd44",
   "metadata": {},
   "outputs": [
    {
     "data": {
      "text/plain": [
       "<matplotlib.animation.FuncAnimation at 0x2d9d999d820>"
      ]
     },
     "execution_count": 223,
     "metadata": {},
     "output_type": "execute_result"
    },
    {
     "data": {
      "application/vnd.jupyter.widget-view+json": {
       "model_id": "2af308b9a156472cb1f87cc046782217",
       "version_major": 2,
       "version_minor": 0
      },
      "image/png": "[encoded data removed]",
      "text/html": [
       "\n",
       "            <div style=\"display: inline-block;\">\n",
       "                <div class=\"jupyter-widgets widget-label\" style=\"text-align: center;\">\n",
       "                    Figure\n",
       "                </div>\n",
       "                <img src='data:image/png;base64,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' width=640.0/>\n",
       "            </div>\n",
       "        "
      ],
      "text/plain": [
       "Canvas(toolbar=Toolbar(toolitems=[('Home', 'Reset original view', 'home', 'home'), ('Back', 'Back to previous …"
      ]
     },
     "metadata": {},
     "output_type": "display_data"
    }
   ],
   "source": [
    "fig1 = plt.figure()\n",
    "ax1 = plt.axes()\n",
    "plt.axis([x_min-0.5, x_max+0.5, y_min-0.5, y_max+0.5])\n",
    "line1, = ax1.plot([], [],'b')\n",
    "FuncAnimation(fig1, at_frame1, frames=matrix, repeat=False, interval=15)"
   ]
  },
  {
   "cell_type": "markdown",
   "id": "299d84f7-c8e9-41e8-a52b-4b16768fb67f",
   "metadata": {},
   "source": [
    "## Реализация Задания 3.1b"
   ]
  },
  {
   "cell_type": "code",
   "execution_count": 226,
   "id": "910f36ef-cb8d-4270-80c1-bf80d4b6244d",
   "metadata": {},
   "outputs": [],
   "source": [
    "t_max = 3.0 # конец\n",
    "t_min= 0.5 # начало\n",
    "step=(t_max-t_min)/100"
   ]
  },
  {
   "cell_type": "code",
   "execution_count": 228,
   "id": "52fc71e1-1ecc-44cb-8c37-129a3239e247",
   "metadata": {},
   "outputs": [],
   "source": [
    "t_array = np.arange(t_min,t_max,step) \n",
    "x = np.arctan(np.exp(t_array/2))\n",
    "y = np.sqrt(np.exp(t_array) + 1)"
   ]
  },
  {
   "cell_type": "code",
   "execution_count": 230,
   "id": "cd1622ec-83b4-4f14-9570-5761b44d3790",
   "metadata": {},
   "outputs": [],
   "source": [
    "matrix1 = np.transpose([x, y])"
   ]
  },
  {
   "cell_type": "code",
   "execution_count": 232,
   "id": "4823afd1-00c1-43e2-be14-acbc479e96a8",
   "metadata": {},
   "outputs": [
    {
     "data": {
      "text/plain": [
       "(0.409116062888664, 1.8485904113678955, 1.1274892536358352, 5.037579007532105)"
      ]
     },
     "execution_count": 232,
     "metadata": {},
     "output_type": "execute_result"
    }
   ],
   "source": [
    "y_mn, y_mx = np.min(y), np.max(y)\n",
    "x_mn, x_mx = np.min(x), np.max(x)\n",
    "ax11 = plt.axes()\n",
    "plt.axis([x_mn-0.5, x_mx+0.5, y_mn-0.5, y_mx+0.5])"
   ]
  },
  {
   "cell_type": "code",
   "execution_count": 234,
   "id": "c0d234ab-412a-43ab-84bd-42fdaaeff801",
   "metadata": {},
   "outputs": [],
   "source": [
    "line11, = ax11.plot([],[],'r')"
   ]
  },
  {
   "cell_type": "code",
   "execution_count": 236,
   "id": "5d33db29-4de4-481d-a8a6-04f338f21aca",
   "metadata": {},
   "outputs": [],
   "source": [
    "def at_frame11(point):\n",
    " x_coord = list(line11.get_xdata())\n",
    " y_coord = list(line11.get_ydata())\n",
    "\n",
    " x_coord.append(point[0])\n",
    " y_coord.append(point[1])\n",
    "\n",
    " line11.set_data(x_coord, y_coord)"
   ]
  },
  {
   "cell_type": "code",
   "execution_count": 269,
   "id": "762f6f2f-ad3d-49bd-8b9d-1050d37165ea",
   "metadata": {},
   "outputs": [
    {
     "data": {
      "text/plain": [
       "<matplotlib.animation.FuncAnimation at 0x2d9e2202e40>"
      ]
     },
     "execution_count": 269,
     "metadata": {},
     "output_type": "execute_result"
    },
    {
     "data": {
      "application/vnd.jupyter.widget-view+json": {
       "model_id": "6446f76a096946e9849a9318ffc70b20",
       "version_major": 2,
       "version_minor": 0
      },
      "image/png": "[encoded data removed]",
      "text/html": [
       "\n",
       "            <div style=\"display: inline-block;\">\n",
       "                <div class=\"jupyter-widgets widget-label\" style=\"text-align: center;\">\n",
       "                    Figure\n",
       "                </div>\n",
       "                <img src='data:image/png;base64,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' width=640.0/>\n",
       "            </div>\n",
       "        "
      ],
      "text/plain": [
       "Canvas(toolbar=Toolbar(toolitems=[('Home', 'Reset original view', 'home', 'home'), ('Back', 'Back to previous …"
      ]
     },
     "metadata": {},
     "output_type": "display_data"
    }
   ],
   "source": [
    "fig11 = plt.figure()\n",
    "ax11 = plt.axes()\n",
    "plt.axis([x_mn-0.5, x_mx+0.5, y_mn-0.5, y_mx+0.5])\n",
    "line11, = ax11.plot([],[],'r')\n",
    "FuncAnimation(fig11, at_frame11, frames=matrix1, repeat=False, interval=30)"
   ]
  },
  {
   "cell_type": "markdown",
   "id": "185aac25-1c64-4ae2-8262-32081a2cd1b9",
   "metadata": {},
   "source": [
    "# Задание 3.2. Движение точки по линии на плоскости"
   ]
  },
  {
   "cell_type": "markdown",
   "id": "82a9fc42-6525-4ac5-beed-c33513c03971",
   "metadata": {},
   "source": [
    "Последовательно выполним следущие действия с использованием функций из модуля `pyplot` :\n",
    "- с помощью функции `figure` создадим графическое окно, в котором в дальнейшем будет отображаться анимация;\n",
    "- с помощью функции `axes` cоздадим графическую область и зададим для нее\n",
    "пределы по осям с помощью функции `axis` ;\n",
    "- с помощью функции plot создадим в графической области графический объект типа `Line2D` синего цвета `'b'` , координаты которого описывают аналитическую функцию;\n",
    "- с помощью функции `plot` создадим в графической области графический объект типа `Line2D` зеленого цвета с маркером в виде кружка `'go'` , координаты которого пока неизвестны"
   ]
  },
  {
   "cell_type": "code",
   "execution_count": 242,
   "id": "2938ce5a-4601-4191-a2d1-c50bc3ff2208",
   "metadata": {},
   "outputs": [
    {
     "data": {
      "application/vnd.jupyter.widget-view+json": {
       "model_id": "86f629ccaf734ee4aa3bd381750937a9",
       "version_major": 2,
       "version_minor": 0
      },
      "image/png": "[encoded data removed]",
      "text/html": [
       "\n",
       "            <div style=\"display: inline-block;\">\n",
       "                <div class=\"jupyter-widgets widget-label\" style=\"text-align: center;\">\n",
       "                    Figure\n",
       "                </div>\n",
       "                <img src='data:image/png;base64,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' width=640.0/>\n",
       "            </div>\n",
       "        "
      ],
      "text/plain": [
       "Canvas(toolbar=Toolbar(toolitems=[('Home', 'Reset original view', 'home', 'home'), ('Back', 'Back to previous …"
      ]
     },
     "metadata": {},
     "output_type": "display_data"
    }
   ],
   "source": [
    "fig2 = plt.figure()\n",
    "\n",
    "ax2 = plt.axes()\n",
    "plt.axis([x_min-0.5, x_max+0.5, y_min-0.5, y_max+0.5])\n",
    "\n",
    "line1, = ax2.plot(x_array, y_array,'b') # объект для графика функции\n",
    "line2, = ax2.plot([], [],'go') # объект для точки"
   ]
  },
  {
   "cell_type": "markdown",
   "id": "a9e885c7-0628-4b01-97f2-0d4a5f72610e",
   "metadata": {},
   "source": [
    "Определим пользовательскую функцию одного аргумента `at_frame2` , которая будет вызываться в каждом кадре анимации. Единственный аргумент функции `at_frame2` является массивом из и координат точки графика функции. Функция `at_frame2` задает графический объект `line2` единственной точкой с координатами"
   ]
  },
  {
   "cell_type": "code",
   "execution_count": 245,
   "id": "a690fcb8-518f-432b-a4c9-92f5d5cbf4b8",
   "metadata": {},
   "outputs": [],
   "source": [
    "def at_frame2(point):\n",
    "    \"\"\"Задает объект line2 точкой с координатами (point[0], point[1])\n",
    "    \n",
    "    Arguments:\n",
    "    point : массив из двух элементов\n",
    "\n",
    "    Returns: None\n",
    "    \"\"\"\n",
    "    line2.set_data([point[0]], [point[1]]) \n"
   ]
  },
  {
   "cell_type": "markdown",
   "id": "ca6a9368-78c2-4b3b-8acd-54b55a4c79e5",
   "metadata": {},
   "source": [
    "Полагаем аргумент `init_func` функции `FunAnimation` равным пользовательской функции `init : init_func=init` . Функция `init` будет вызываться перед началом анимации. Назначение функции `init :` отображение графика функции, создание графика для отображения точки и создание легенды для двух графиков.\n"
   ]
  },
  {
   "cell_type": "code",
   "execution_count": 248,
   "id": "f29b4014-489f-48f2-bef8-42c4c531f9a8",
   "metadata": {},
   "outputs": [
    {
     "data": {
      "text/plain": [
       "<matplotlib.animation.FuncAnimation at 0x2d9d5fd0530>"
      ]
     },
     "execution_count": 248,
     "metadata": {},
     "output_type": "execute_result"
    },
    {
     "data": {
      "application/vnd.jupyter.widget-view+json": {
       "model_id": "266ae157e0e840f981a40d8351c8ee10",
       "version_major": 2,
       "version_minor": 0
      },
      "image/png": "[encoded data removed]",
      "text/html": [
       "\n",
       "            <div style=\"display: inline-block;\">\n",
       "                <div class=\"jupyter-widgets widget-label\" style=\"text-align: center;\">\n",
       "                    Figure\n",
       "                </div>\n",
       "                <img src='data:image/png;base64,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' width=640.0/>\n",
       "            </div>\n",
       "        "
      ],
      "text/plain": [
       "Canvas(toolbar=Toolbar(toolitems=[('Home', 'Reset original view', 'home', 'home'), ('Back', 'Back to previous …"
      ]
     },
     "metadata": {},
     "output_type": "display_data"
    }
   ],
   "source": [
    "fig2 = plt.figure()\n",
    "ax2 = plt.axes()\n",
    "plt.axis([x_min-0.5, x_max+0.5, y_min-0.5, y_max+0.5])\n",
    "def init():\n",
    "    \"\"\"Создает начальное состояние графической области\"\"\"\n",
    "    global line2  # Переменная сделана глобальной, чтобы она могла изменяться внутри функции\n",
    "    \n",
    "    line1, = ax2.plot(x_array, y_array, 'b')\n",
    "    line2, = ax2.plot([], [], 'go')\n",
    "    plt.legend([r'$y(x) = \\sin(x)^4$', 'Movable point'])\n",
    "    \n",
    "FuncAnimation(fig2, at_frame2, frames=matrix, init_func=init,repeat=False, interval=20)\n",
    "\n"
   ]
  },
  {
   "cell_type": "markdown",
   "id": "bf35a0d1-911b-41a8-8473-6991f22b70aa",
   "metadata": {},
   "source": [
    "## Реализация анимации для функции из 3.1b"
   ]
  },
  {
   "cell_type": "code",
   "execution_count": 251,
   "id": "44d68a87-b604-4ab1-a04c-087000a2c88e",
   "metadata": {},
   "outputs": [
    {
     "data": {
      "text/plain": [
       "(0.409116062888664, 1.8485904113678955, 1.1274892536358352, 5.037579007532105)"
      ]
     },
     "execution_count": 251,
     "metadata": {},
     "output_type": "execute_result"
    },
    {
     "data": {
      "application/vnd.jupyter.widget-view+json": {
       "model_id": "fcbcaca9ff45448487d6d9f903102749",
       "version_major": 2,
       "version_minor": 0
      },
      "image/png": "[encoded data removed]",
      "text/html": [
       "\n",
       "            <div style=\"display: inline-block;\">\n",
       "                <div class=\"jupyter-widgets widget-label\" style=\"text-align: center;\">\n",
       "                    Figure\n",
       "                </div>\n",
       "                <img src='data:image/png;base64,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' width=640.0/>\n",
       "            </div>\n",
       "        "
      ],
      "text/plain": [
       "Canvas(toolbar=Toolbar(toolitems=[('Home', 'Reset original view', 'home', 'home'), ('Back', 'Back to previous …"
      ]
     },
     "metadata": {},
     "output_type": "display_data"
    }
   ],
   "source": [
    "fig22 = plt.figure()\n",
    "ax22 = plt.axes()\n",
    "plt.axis([x_mn-0.5, x_mx+0.5, y_mn-0.5, y_mx+0.5])"
   ]
  },
  {
   "cell_type": "code",
   "execution_count": 253,
   "id": "0a02b51a-ee6d-47e0-a230-996bc3d95858",
   "metadata": {},
   "outputs": [],
   "source": [
    "line11, = ax22.plot(x, y,'r') # объект для графика функции\n",
    "line22, = ax22.plot([], [],'go') # объект для точки"
   ]
  },
  {
   "cell_type": "code",
   "execution_count": 255,
   "id": "f659c9b0-8c43-4dbc-a8ec-2ab3075da5b5",
   "metadata": {},
   "outputs": [],
   "source": [
    "def at_frame22(point):\n",
    "    \"\"\"Задает объект line22 точкой с координатами (point[0], point[1])\n",
    "    \n",
    "    Arguments:\n",
    "    point : массив из двух элементов\n",
    "\n",
    "    Returns: None\n",
    "    \"\"\"\n",
    "    line22.set_data([point[0]], [point[1]]) "
   ]
  },
  {
   "cell_type": "code",
   "execution_count": 267,
   "id": "d08fa35b-de09-4153-bd94-3b81ebb1715b",
   "metadata": {},
   "outputs": [
    {
     "data": {
      "text/plain": [
       "<matplotlib.animation.FuncAnimation at 0x2d9e1cc29c0>"
      ]
     },
     "execution_count": 267,
     "metadata": {},
     "output_type": "execute_result"
    },
    {
     "data": {
      "application/vnd.jupyter.widget-view+json": {
       "model_id": "7e745bff7a1c4708897e2f5219073169",
       "version_major": 2,
       "version_minor": 0
      },
      "image/png": "[encoded data removed]",
      "text/html": [
       "\n",
       "            <div style=\"display: inline-block;\">\n",
       "                <div class=\"jupyter-widgets widget-label\" style=\"text-align: center;\">\n",
       "                    Figure\n",
       "                </div>\n",
       "                <img src='data:image/png;base64,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' width=640.0/>\n",
       "            </div>\n",
       "        "
      ],
      "text/plain": [
       "Canvas(toolbar=Toolbar(toolitems=[('Home', 'Reset original view', 'home', 'home'), ('Back', 'Back to previous …"
      ]
     },
     "metadata": {},
     "output_type": "display_data"
    }
   ],
   "source": [
    "fig22 = plt.figure()\n",
    "ax22 = plt.axes()\n",
    "plt.axis([x_mn-0.5, x_mx+0.5, y_mn-0.5, y_mx+0.5])\n",
    "def init1():\n",
    "    \"\"\"Создает начальное состояние графической области\"\"\"\n",
    "    global line22  # Переменная сделана глобальной, чтобы она могла изменяться внутри функции\n",
    "    \n",
    "    line11, = ax22.plot(x, y,'r')\n",
    "    line22, = ax22.plot([], [], 'go')\n",
    "    plt.legend([r'$x = \\arctan e^{t/2}, \\quad y = \\sqrt{e^t + 1}$', 'Movable point'])\n",
    "    \n",
    "FuncAnimation(fig22, at_frame22, frames=matrix1, init_func=init1,repeat=False, interval=20)"
   ]
  },
  {
   "cell_type": "markdown",
   "id": "0658eb1a-c7dc-4fea-87a2-09064a4af8c2",
   "metadata": {},
   "source": [
    "# Задание 3.3. Движение секущей прямой к заданной линии на плоскости (версия 1)"
   ]
  },
  {
   "cell_type": "markdown",
   "id": "b78ffbdc-04ad-4e3f-ab2a-cdeaab6c5cc8",
   "metadata": {},
   "source": [
    "Перед началом анимации графическая область должна содержать следующие графические объекты: \n",
    "\n",
    "- график заданной функции, которая определяет траекторию движения подвижной точки B ;\n",
    "- неподвижную точку A ;\n",
    "- начальное положение подвижной точки B ;\n",
    "- cекущую прямую, проходящую через точки A и B .</br>\n",
    "Начальное состояние графической области реализуем с помощью пользовательской функции `init` .\n"
   ]
  },
  {
   "cell_type": "code",
   "execution_count": 265,
   "id": "a9096ce7-d7ab-4326-ae40-f77511c67e1d",
   "metadata": {},
   "outputs": [
    {
     "data": {
      "text/plain": [
       "<matplotlib.animation.FuncAnimation at 0x2d9e08f0ce0>"
      ]
     },
     "execution_count": 265,
     "metadata": {},
     "output_type": "execute_result"
    },
    {
     "data": {
      "application/vnd.jupyter.widget-view+json": {
       "model_id": "e04ef5936d114ea1937e256e2c81609c",
       "version_major": 2,
       "version_minor": 0
      },
      "image/png": "[encoded data removed]",
      "text/html": [
       "\n",
       "            <div style=\"display: inline-block;\">\n",
       "                <div class=\"jupyter-widgets widget-label\" style=\"text-align: center;\">\n",
       "                    Figure\n",
       "                </div>\n",
       "                <img src='data:image/png;base64,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' width=640.0/>\n",
       "            </div>\n",
       "        "
      ],
      "text/plain": [
       "Canvas(toolbar=Toolbar(toolitems=[('Home', 'Reset original view', 'home', 'home'), ('Back', 'Back to previous …"
      ]
     },
     "metadata": {},
     "output_type": "display_data"
    }
   ],
   "source": [
    "fig3 = plt.figure()\n",
    "ax3 = plt.axes()\n",
    "plt.axis([x_min-1, x_max+1, y_min-1, y_max+1])\n",
    "def init():\n",
    "    \"\"\"\n",
    "    Создает начальное состояние графической области перед началом анимации.\n",
    "    \n",
    "    Returns: None\n",
    "    \"\"\"\n",
    "    global point_B, secant_line # переменные сделаны глобальными, чтобы они были\n",
    "\n",
    "    curve, = ax3.plot(x_array, y_array,'b') # графический объект для исходной фу\n",
    "\n",
    "    A = np.array([x_array[0], y_array[0]])\n",
    "    point_A, = ax3.plot(A[0],A[1],'ro') # графический объект для неподвижной точ\n",
    "\n",
    "    B = np.array([x_array[-1], y_array[-1]])\n",
    "    point_B, = ax3.plot(B[0],B[1],'go') # графический объект для подвижной точки\n",
    "\n",
    "    secant_p = [A + (B - A)*t for t in [-2, 2]] # две точки секущей прямой, прох\n",
    "    secant_p = np.array(secant_p)\n",
    "    secant_line, = ax3.plot(secant_p[:,0], secant_p[:,1],'g') # графический объе\n",
    "\n",
    "    plt.legend([r'$y(x) = \\sin(x)^4$','Unmovable point A','Мovable point B','Secant line'])\n",
    "def at_frame3(point):\n",
    "    \"\"\"\n",
    "    Do: обновляет положение подвижной точки B и секущей прямой на каждом кадре анимации.\n",
    "\n",
    "    Arguments :\n",
    "\n",
    "    point : массив из двух элементов, задающий координаты подвижной точки B.\n",
    "\n",
    "    Returns : None\n",
    "    \"\"\"\n",
    "    global point_B, secant_line\n",
    "    A = np.array([x_array[0], y_array[0]])\n",
    "    B = np.array([point[0],point[1]])\n",
    "    point_B.set_data([point[0]],[point[1]])\n",
    "    if B[0]==A[0]:\n",
    "        t = sympy.Symbol('t')\n",
    "        y_x=sympy.sin(t)**4\n",
    "        y_difx = sympy.diff(y_x, t) \n",
    "        k=y_difx.subs(t, A[0])\n",
    "        y_kasstart = np.array([A[0],A[1]])\n",
    "        y_kasend = np.array([A[0]+1,k+A[1]])\n",
    "        y_kas=[y_kasstart+ (y_kasend-y_kasstart)*t for t in [-8, 8]]\n",
    "        y_kas = np.array(y_kas)\n",
    "        secant_line.set_data(y_kas[:,0], y_kas[:,1])\n",
    "        secant_line.set_color('r')\n",
    "    else:\n",
    "        secant_p = [A + (B - A)*l for l in [-2, 2]] # две точки секущей прямой, прох\n",
    "        secant_p = np.array(secant_p)\n",
    "        secant_line.set_data(secant_p[:,0], secant_p[:,1])\n",
    "FuncAnimation(fig3, at_frame3, frames=matrix[::-1], init_func=init, repeat=False, interval=20)"
   ]
  },
  {
   "cell_type": "markdown",
   "id": "d31f45b8-e422-40e3-8cb7-08a2b7e76eaa",
   "metadata": {},
   "source": [
    "## Задание 3.4. Движение секущей прямой к заданной линии на плоскости (версия 2)"
   ]
  },
  {
   "cell_type": "code",
   "execution_count": 263,
   "id": "1a48295c-4a65-4382-83ec-d87dd42e5bc2",
   "metadata": {},
   "outputs": [
    {
     "data": {
      "text/plain": [
       "<matplotlib.animation.FuncAnimation at 0x2d9e09393d0>"
      ]
     },
     "execution_count": 263,
     "metadata": {},
     "output_type": "execute_result"
    },
    {
     "data": {
      "application/vnd.jupyter.widget-view+json": {
       "model_id": "7cdfa21e04804044adde947c0419bdd1",
       "version_major": 2,
       "version_minor": 0
      },
      "image/png": "[encoded data removed]",
      "text/html": [
       "\n",
       "            <div style=\"display: inline-block;\">\n",
       "                <div class=\"jupyter-widgets widget-label\" style=\"text-align: center;\">\n",
       "                    Figure\n",
       "                </div>\n",
       "                <img src='data:image/png;base64,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' width=640.0/>\n",
       "            </div>\n",
       "        "
      ],
      "text/plain": [
       "Canvas(toolbar=Toolbar(toolitems=[('Home', 'Reset original view', 'home', 'home'), ('Back', 'Back to previous …"
      ]
     },
     "metadata": {},
     "output_type": "display_data"
    }
   ],
   "source": [
    "fig33 = plt.figure()\n",
    "ax33 = plt.axes()\n",
    "plt.axis([x_mn-1, x_mx+1, y_mn-1, y_mx+1])\n",
    "def init3():\n",
    "    \"\"\"\n",
    "    Создает начальное состояние графической области перед началом анимации.\n",
    "    \n",
    "    Returns: None\n",
    "    \"\"\"\n",
    "    global point_B3, secant_line3 # переменные сделаны глобальными, чтобы они были\n",
    "\n",
    "    curve, = ax33.plot(x, y,'b') # графический объект для исходной фу\n",
    "\n",
    "    A3 = np.array([x[0], y[0]])\n",
    "    point_A3, = ax33.plot(A3[0],A3[1],'ro') # графический объект для неподвижной точ\n",
    "\n",
    "    B3 = np.array([x[-1], y[-1]])\n",
    "    point_B3, = ax33.plot(B3[0],B3[1],'go') # графический объект для подвижной точки\n",
    "\n",
    "    secant_p3 = [A3 + (B3 - A3)*t for t in [-2, 2]] # две точки секущей прямой, прох\n",
    "    secant_p3 = np.array(secant_p3)\n",
    "    secant_line3, = ax33.plot(secant_p3[:,0], secant_p3[:,1],'g') # графический объе\n",
    "\n",
    "    plt.legend([r'$x = \\arctan e^{t/2}, \\quad y = \\sqrt{e^t + 1}$','Мovable point B','Secant Line'])\n",
    "def at_frame33(point):\n",
    "    \"\"\"\n",
    "    Do: обновляет положение подвижной точки B и секущей прямой на каждом кадре анимации.\n",
    "\n",
    "    Arguments :\n",
    "\n",
    "    point : массив из двух элементов, задающий координаты подвижной точки B.\n",
    "\n",
    "    Returns : None\n",
    "    \"\"\"\n",
    "    global point_B3, secant_line3\n",
    "    A3 = np.array([x[0], y[0]])\n",
    "    B3 = np.array([point[0],point[1]])\n",
    "    point_B3.set_data([point[0]],[point[1]])\n",
    "    if B3[0]==A3[0]:\n",
    "        t = sympy.Symbol('t')\n",
    "        x_d=sympy.atan(sympy.exp(t/2))\n",
    "        y_d = sympy.sqrt(sympy.exp(t) + 1)\n",
    "        x_difx = sympy.diff(x_d, t)\n",
    "        y_difx = sympy.diff(y_d, t) \n",
    "        k=y_difx.subs(t, t_array[0])/x_difx.subs(t, t_array[0])\n",
    "        y_kasstart = np.array([A3[0],A3[1]])\n",
    "        y_kasend = np.array([A3[0]+1,k+A3[1]])\n",
    "        y_kas=[y_kasstart+ (y_kasend-y_kasstart)*t for t in [-1, 2]]\n",
    "        y_kas = np.array(y_kas)\n",
    "        secant_line3.set_data(y_kas[:,0], y_kas[:,1])\n",
    "        secant_line3.set_color('r')\n",
    "    else:\n",
    "        secant_p3 = [A3 + (B3 - A3)*l for l in [-2, 2]] # две точки секущей прямой, прох\n",
    "        secant_p3 = np.array(secant_p3)\n",
    "        secant_line3.set_data(secant_p3[:,0], secant_p3[:,1])\n",
    "FuncAnimation(fig33, at_frame33, frames=matrix1[::-1], init_func=init3, repeat=False, interval=20)"
   ]
  },
  {
   "cell_type": "code",
   "execution_count": 277,
   "id": "13ba2713-4e67-4155-a2ce-e5a2bee32fea",
   "metadata": {},
   "outputs": [],
   "source": [
    "x=2"
   ]
  },
  {
   "cell_type": "code",
   "execution_count": 285,
   "id": "89c953d9-12b1-4b72-9999-8ef187c4d9c2",
   "metadata": {},
   "outputs": [
    {
     "ename": "TypeError",
     "evalue": "<lambda>() got an unexpected keyword argument 'x'",
     "output_type": "error",
     "traceback": [
      "\u001b[1;31m---------------------------------------------------------------------------\u001b[0m",
      "\u001b[1;31mTypeError\u001b[0m                                 Traceback (most recent call last)",
      "Cell \u001b[1;32mIn[285], line 1\u001b[0m\n\u001b[1;32m----> 1\u001b[0m (\u001b[38;5;28;01mlambda\u001b[39;00m: x\u001b[38;5;241m*\u001b[39m\u001b[38;5;241m*\u001b[39m\u001b[38;5;241m2\u001b[39m) (x\u001b[38;5;241m=\u001b[39m\u001b[38;5;241m3\u001b[39m)\n",
      "\u001b[1;31mTypeError\u001b[0m: <lambda>() got an unexpected keyword argument 'x'"
     ]
    }
   ],
   "source": [
    "(lambda: x**2) (x=3) "
   ]
  },
  {
   "cell_type": "code",
   "execution_count": null,
   "id": "cc8bf102-0dc3-4e40-9bba-9a68aaf45d8c",
   "metadata": {},
   "outputs": [],
   "source": []
  }
 ],
 "metadata": {
  "kernelspec": {
   "display_name": "Python [conda env:base] *",
   "language": "python",
   "name": "conda-base-py"
  },
  "language_info": {
   "codemirror_mode": {
    "name": "ipython",
    "version": 3
   },
   "file_extension": ".py",
   "mimetype": "text/x-python",
   "name": "python",
   "nbconvert_exporter": "python",
   "pygments_lexer": "ipython3",
   "version": "3.12.7"
  }
 },
 "nbformat": 4,
 "nbformat_minor": 5
}
